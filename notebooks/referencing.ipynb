{
 "cells": [
  {
   "cell_type": "markdown",
   "source": [
    "# Relative References in JSON Schema\n",
    "With recent updates to the schema build structure, GKS schemas now exist across multiple, cross-referenced files in the schema directory, including imports from other upstream sources.\n",
    "\n",
    "To handle this, schemas need to have their '$id' attribute set.\n",
    "\n",
    "First, a look at the situation _without_ doing so:"
   ],
   "metadata": {
    "collapsed": false
   },
   "id": "ffed4e313e949ce"
  },
  {
   "cell_type": "code",
   "outputs": [],
   "source": [
    "import re\n",
    "from pathlib import Path\n",
    "import jsonschema as js\n",
    "import json\n",
    "import os\n",
    "\n",
    "root_dir = Path(os.getcwd()).parent\n",
    "SCHEMA_DIR = root_dir / \"schema\"\n",
    "vrs_jsons_path = SCHEMA_DIR / \"vrs\" /  \"json\""
   ],
   "metadata": {
    "collapsed": false,
    "ExecuteTime": {
     "end_time": "2024-03-05T05:55:35.551663Z",
     "start_time": "2024-03-05T05:55:35.546864Z"
    }
   },
   "id": "18940c06dd6885bd",
   "execution_count": 37
  },
  {
   "cell_type": "code",
   "outputs": [
    {
     "ename": "_WrappedReferencingError",
     "evalue": "Unresolvable: SequenceReference",
     "output_type": "error",
     "traceback": [
      "\u001B[0;31m---------------------------------------------------------------------------\u001B[0m",
      "\u001B[0;31mHTTPError\u001B[0m                                 Traceback (most recent call last)",
      "File \u001B[0;32m~/git/vrs/venv/lib/python3.12/site-packages/referencing/_core.py:417\u001B[0m, in \u001B[0;36mRegistry.get_or_retrieve\u001B[0;34m(self, uri)\u001B[0m\n\u001B[1;32m    416\u001B[0m \u001B[38;5;28;01mtry\u001B[39;00m:\n\u001B[0;32m--> 417\u001B[0m     resource \u001B[38;5;241m=\u001B[39m \u001B[43mregistry\u001B[49m\u001B[38;5;241;43m.\u001B[39;49m\u001B[43m_retrieve\u001B[49m\u001B[43m(\u001B[49m\u001B[43muri\u001B[49m\u001B[43m)\u001B[49m\n\u001B[1;32m    418\u001B[0m \u001B[38;5;28;01mexcept\u001B[39;00m (\n\u001B[1;32m    419\u001B[0m     exceptions\u001B[38;5;241m.\u001B[39mCannotDetermineSpecification,\n\u001B[1;32m    420\u001B[0m     exceptions\u001B[38;5;241m.\u001B[39mNoSuchResource,\n\u001B[1;32m    421\u001B[0m ):\n",
      "File \u001B[0;32m~/git/vrs/venv/lib/python3.12/site-packages/jsonschema/validators.py:112\u001B[0m, in \u001B[0;36m_warn_for_remote_retrieve\u001B[0;34m(uri)\u001B[0m\n\u001B[1;32m    111\u001B[0m request \u001B[38;5;241m=\u001B[39m Request(uri, headers\u001B[38;5;241m=\u001B[39mheaders)  \u001B[38;5;66;03m# noqa: S310\u001B[39;00m\n\u001B[0;32m--> 112\u001B[0m \u001B[38;5;28;01mwith\u001B[39;00m \u001B[43murlopen\u001B[49m\u001B[43m(\u001B[49m\u001B[43mrequest\u001B[49m\u001B[43m)\u001B[49m \u001B[38;5;28;01mas\u001B[39;00m response:  \u001B[38;5;66;03m# noqa: S310\u001B[39;00m\n\u001B[1;32m    113\u001B[0m     warnings\u001B[38;5;241m.\u001B[39mwarn(\n\u001B[1;32m    114\u001B[0m         \u001B[38;5;124m\"\u001B[39m\u001B[38;5;124mAutomatically retrieving remote references can be a security \u001B[39m\u001B[38;5;124m\"\u001B[39m\n\u001B[1;32m    115\u001B[0m         \u001B[38;5;124m\"\u001B[39m\u001B[38;5;124mvulnerability and is discouraged by the JSON Schema \u001B[39m\u001B[38;5;124m\"\u001B[39m\n\u001B[0;32m   (...)\u001B[0m\n\u001B[1;32m    123\u001B[0m         stacklevel\u001B[38;5;241m=\u001B[39m\u001B[38;5;241m9\u001B[39m,  \u001B[38;5;66;03m# Ha ha ha ha magic numbers :/\u001B[39;00m\n\u001B[1;32m    124\u001B[0m     )\n",
      "File \u001B[0;32m~/.pyenv/versions/3.12.1/lib/python3.12/urllib/request.py:215\u001B[0m, in \u001B[0;36murlopen\u001B[0;34m(url, data, timeout, cafile, capath, cadefault, context)\u001B[0m\n\u001B[1;32m    214\u001B[0m     opener \u001B[38;5;241m=\u001B[39m _opener\n\u001B[0;32m--> 215\u001B[0m \u001B[38;5;28;01mreturn\u001B[39;00m \u001B[43mopener\u001B[49m\u001B[38;5;241;43m.\u001B[39;49m\u001B[43mopen\u001B[49m\u001B[43m(\u001B[49m\u001B[43murl\u001B[49m\u001B[43m,\u001B[49m\u001B[43m \u001B[49m\u001B[43mdata\u001B[49m\u001B[43m,\u001B[49m\u001B[43m \u001B[49m\u001B[43mtimeout\u001B[49m\u001B[43m)\u001B[49m\n",
      "File \u001B[0;32m~/.pyenv/versions/3.12.1/lib/python3.12/urllib/request.py:521\u001B[0m, in \u001B[0;36mOpenerDirector.open\u001B[0;34m(self, fullurl, data, timeout)\u001B[0m\n\u001B[1;32m    520\u001B[0m     meth \u001B[38;5;241m=\u001B[39m \u001B[38;5;28mgetattr\u001B[39m(processor, meth_name)\n\u001B[0;32m--> 521\u001B[0m     response \u001B[38;5;241m=\u001B[39m \u001B[43mmeth\u001B[49m\u001B[43m(\u001B[49m\u001B[43mreq\u001B[49m\u001B[43m,\u001B[49m\u001B[43m \u001B[49m\u001B[43mresponse\u001B[49m\u001B[43m)\u001B[49m\n\u001B[1;32m    523\u001B[0m \u001B[38;5;28;01mreturn\u001B[39;00m response\n",
      "File \u001B[0;32m~/.pyenv/versions/3.12.1/lib/python3.12/urllib/request.py:630\u001B[0m, in \u001B[0;36mHTTPErrorProcessor.http_response\u001B[0;34m(self, request, response)\u001B[0m\n\u001B[1;32m    629\u001B[0m \u001B[38;5;28;01mif\u001B[39;00m \u001B[38;5;129;01mnot\u001B[39;00m (\u001B[38;5;241m200\u001B[39m \u001B[38;5;241m<\u001B[39m\u001B[38;5;241m=\u001B[39m code \u001B[38;5;241m<\u001B[39m \u001B[38;5;241m300\u001B[39m):\n\u001B[0;32m--> 630\u001B[0m     response \u001B[38;5;241m=\u001B[39m \u001B[38;5;28;43mself\u001B[39;49m\u001B[38;5;241;43m.\u001B[39;49m\u001B[43mparent\u001B[49m\u001B[38;5;241;43m.\u001B[39;49m\u001B[43merror\u001B[49m\u001B[43m(\u001B[49m\n\u001B[1;32m    631\u001B[0m \u001B[43m        \u001B[49m\u001B[38;5;124;43m'\u001B[39;49m\u001B[38;5;124;43mhttp\u001B[39;49m\u001B[38;5;124;43m'\u001B[39;49m\u001B[43m,\u001B[49m\u001B[43m \u001B[49m\u001B[43mrequest\u001B[49m\u001B[43m,\u001B[49m\u001B[43m \u001B[49m\u001B[43mresponse\u001B[49m\u001B[43m,\u001B[49m\u001B[43m \u001B[49m\u001B[43mcode\u001B[49m\u001B[43m,\u001B[49m\u001B[43m \u001B[49m\u001B[43mmsg\u001B[49m\u001B[43m,\u001B[49m\u001B[43m \u001B[49m\u001B[43mhdrs\u001B[49m\u001B[43m)\u001B[49m\n\u001B[1;32m    633\u001B[0m \u001B[38;5;28;01mreturn\u001B[39;00m response\n",
      "File \u001B[0;32m~/.pyenv/versions/3.12.1/lib/python3.12/urllib/request.py:559\u001B[0m, in \u001B[0;36mOpenerDirector.error\u001B[0;34m(self, proto, *args)\u001B[0m\n\u001B[1;32m    558\u001B[0m args \u001B[38;5;241m=\u001B[39m (\u001B[38;5;28mdict\u001B[39m, \u001B[38;5;124m'\u001B[39m\u001B[38;5;124mdefault\u001B[39m\u001B[38;5;124m'\u001B[39m, \u001B[38;5;124m'\u001B[39m\u001B[38;5;124mhttp_error_default\u001B[39m\u001B[38;5;124m'\u001B[39m) \u001B[38;5;241m+\u001B[39m orig_args\n\u001B[0;32m--> 559\u001B[0m \u001B[38;5;28;01mreturn\u001B[39;00m \u001B[38;5;28;43mself\u001B[39;49m\u001B[38;5;241;43m.\u001B[39;49m\u001B[43m_call_chain\u001B[49m\u001B[43m(\u001B[49m\u001B[38;5;241;43m*\u001B[39;49m\u001B[43margs\u001B[49m\u001B[43m)\u001B[49m\n",
      "File \u001B[0;32m~/.pyenv/versions/3.12.1/lib/python3.12/urllib/request.py:492\u001B[0m, in \u001B[0;36mOpenerDirector._call_chain\u001B[0;34m(self, chain, kind, meth_name, *args)\u001B[0m\n\u001B[1;32m    491\u001B[0m func \u001B[38;5;241m=\u001B[39m \u001B[38;5;28mgetattr\u001B[39m(handler, meth_name)\n\u001B[0;32m--> 492\u001B[0m result \u001B[38;5;241m=\u001B[39m \u001B[43mfunc\u001B[49m\u001B[43m(\u001B[49m\u001B[38;5;241;43m*\u001B[39;49m\u001B[43margs\u001B[49m\u001B[43m)\u001B[49m\n\u001B[1;32m    493\u001B[0m \u001B[38;5;28;01mif\u001B[39;00m result \u001B[38;5;129;01mis\u001B[39;00m \u001B[38;5;129;01mnot\u001B[39;00m \u001B[38;5;28;01mNone\u001B[39;00m:\n",
      "File \u001B[0;32m~/.pyenv/versions/3.12.1/lib/python3.12/urllib/request.py:639\u001B[0m, in \u001B[0;36mHTTPDefaultErrorHandler.http_error_default\u001B[0;34m(self, req, fp, code, msg, hdrs)\u001B[0m\n\u001B[1;32m    638\u001B[0m \u001B[38;5;28;01mdef\u001B[39;00m \u001B[38;5;21mhttp_error_default\u001B[39m(\u001B[38;5;28mself\u001B[39m, req, fp, code, msg, hdrs):\n\u001B[0;32m--> 639\u001B[0m     \u001B[38;5;28;01mraise\u001B[39;00m HTTPError(req\u001B[38;5;241m.\u001B[39mfull_url, code, msg, hdrs, fp)\n",
      "\u001B[0;31mHTTPError\u001B[0m: HTTP Error 404: Not Found",
      "\nThe above exception was the direct cause of the following exception:\n",
      "\u001B[0;31mUnretrievable\u001B[0m                             Traceback (most recent call last)",
      "File \u001B[0;32m~/git/vrs/venv/lib/python3.12/site-packages/referencing/_core.py:667\u001B[0m, in \u001B[0;36mResolver.lookup\u001B[0;34m(self, ref)\u001B[0m\n\u001B[1;32m    666\u001B[0m \u001B[38;5;28;01mtry\u001B[39;00m:\n\u001B[0;32m--> 667\u001B[0m     retrieved \u001B[38;5;241m=\u001B[39m \u001B[38;5;28;43mself\u001B[39;49m\u001B[38;5;241;43m.\u001B[39;49m\u001B[43m_registry\u001B[49m\u001B[38;5;241;43m.\u001B[39;49m\u001B[43mget_or_retrieve\u001B[49m\u001B[43m(\u001B[49m\u001B[43muri\u001B[49m\u001B[43m)\u001B[49m\n\u001B[1;32m    668\u001B[0m \u001B[38;5;28;01mexcept\u001B[39;00m exceptions\u001B[38;5;241m.\u001B[39mNoSuchResource:\n",
      "File \u001B[0;32m~/git/vrs/venv/lib/python3.12/site-packages/referencing/_core.py:424\u001B[0m, in \u001B[0;36mRegistry.get_or_retrieve\u001B[0;34m(self, uri)\u001B[0m\n\u001B[1;32m    423\u001B[0m \u001B[38;5;28;01mexcept\u001B[39;00m \u001B[38;5;167;01mException\u001B[39;00m \u001B[38;5;28;01mas\u001B[39;00m error:  \u001B[38;5;66;03m# noqa: BLE001\u001B[39;00m\n\u001B[0;32m--> 424\u001B[0m     \u001B[38;5;28;01mraise\u001B[39;00m exceptions\u001B[38;5;241m.\u001B[39mUnretrievable(ref\u001B[38;5;241m=\u001B[39muri) \u001B[38;5;28;01mfrom\u001B[39;00m \u001B[38;5;21;01merror\u001B[39;00m\n\u001B[1;32m    425\u001B[0m \u001B[38;5;28;01melse\u001B[39;00m:\n",
      "\u001B[0;31mUnretrievable\u001B[0m: 'https://w3id.org/ga4gh/schema/vrs/2.x/json/SequenceReference'",
      "\nThe above exception was the direct cause of the following exception:\n",
      "\u001B[0;31mUnresolvable\u001B[0m                              Traceback (most recent call last)",
      "File \u001B[0;32m~/git/vrs/venv/lib/python3.12/site-packages/jsonschema/validators.py:450\u001B[0m, in \u001B[0;36mcreate.<locals>.Validator._validate_reference\u001B[0;34m(self, ref, instance)\u001B[0m\n\u001B[1;32m    449\u001B[0m \u001B[38;5;28;01mtry\u001B[39;00m:\n\u001B[0;32m--> 450\u001B[0m     resolved \u001B[38;5;241m=\u001B[39m \u001B[38;5;28;43mself\u001B[39;49m\u001B[38;5;241;43m.\u001B[39;49m\u001B[43m_resolver\u001B[49m\u001B[38;5;241;43m.\u001B[39;49m\u001B[43mlookup\u001B[49m\u001B[43m(\u001B[49m\u001B[43mref\u001B[49m\u001B[43m)\u001B[49m\n\u001B[1;32m    451\u001B[0m \u001B[38;5;28;01mexcept\u001B[39;00m referencing\u001B[38;5;241m.\u001B[39mexceptions\u001B[38;5;241m.\u001B[39mUnresolvable \u001B[38;5;28;01mas\u001B[39;00m err:\n",
      "File \u001B[0;32m~/git/vrs/venv/lib/python3.12/site-packages/referencing/_core.py:671\u001B[0m, in \u001B[0;36mResolver.lookup\u001B[0;34m(self, ref)\u001B[0m\n\u001B[1;32m    670\u001B[0m \u001B[38;5;28;01mexcept\u001B[39;00m exceptions\u001B[38;5;241m.\u001B[39mUnretrievable \u001B[38;5;28;01mas\u001B[39;00m error:\n\u001B[0;32m--> 671\u001B[0m     \u001B[38;5;28;01mraise\u001B[39;00m exceptions\u001B[38;5;241m.\u001B[39mUnresolvable(ref\u001B[38;5;241m=\u001B[39mref) \u001B[38;5;28;01mfrom\u001B[39;00m \u001B[38;5;21;01merror\u001B[39;00m\n\u001B[1;32m    673\u001B[0m \u001B[38;5;28;01mif\u001B[39;00m fragment\u001B[38;5;241m.\u001B[39mstartswith(\u001B[38;5;124m\"\u001B[39m\u001B[38;5;124m/\u001B[39m\u001B[38;5;124m\"\u001B[39m):\n",
      "\u001B[0;31mUnresolvable\u001B[0m: SequenceReference",
      "\nThe above exception was the direct cause of the following exception:\n",
      "\u001B[0;31m_WrappedReferencingError\u001B[0m                  Traceback (most recent call last)",
      "Cell \u001B[0;32mIn[38], line 14\u001B[0m\n\u001B[1;32m     12\u001B[0m \u001B[38;5;28;01mwith\u001B[39;00m \u001B[38;5;28mopen\u001B[39m(sl_schema_filepath, \u001B[38;5;124m'\u001B[39m\u001B[38;5;124mr\u001B[39m\u001B[38;5;124m'\u001B[39m) \u001B[38;5;28;01mas\u001B[39;00m sl_js_file:\n\u001B[1;32m     13\u001B[0m     sl_schema \u001B[38;5;241m=\u001B[39m json\u001B[38;5;241m.\u001B[39mload(sl_js_file)\n\u001B[0;32m---> 14\u001B[0m \u001B[43mjs\u001B[49m\u001B[38;5;241;43m.\u001B[39;49m\u001B[43mvalidate\u001B[49m\u001B[43m(\u001B[49m\u001B[43msl\u001B[49m\u001B[43m,\u001B[49m\u001B[43m \u001B[49m\u001B[43msl_schema\u001B[49m\u001B[43m)\u001B[49m\n",
      "File \u001B[0;32m~/git/vrs/venv/lib/python3.12/site-packages/jsonschema/validators.py:1310\u001B[0m, in \u001B[0;36mvalidate\u001B[0;34m(instance, schema, cls, *args, **kwargs)\u001B[0m\n\u001B[1;32m   1308\u001B[0m \u001B[38;5;28mcls\u001B[39m\u001B[38;5;241m.\u001B[39mcheck_schema(schema)\n\u001B[1;32m   1309\u001B[0m validator \u001B[38;5;241m=\u001B[39m \u001B[38;5;28mcls\u001B[39m(schema, \u001B[38;5;241m*\u001B[39margs, \u001B[38;5;241m*\u001B[39m\u001B[38;5;241m*\u001B[39mkwargs)\n\u001B[0;32m-> 1310\u001B[0m error \u001B[38;5;241m=\u001B[39m \u001B[43mexceptions\u001B[49m\u001B[38;5;241;43m.\u001B[39;49m\u001B[43mbest_match\u001B[49m\u001B[43m(\u001B[49m\u001B[43mvalidator\u001B[49m\u001B[38;5;241;43m.\u001B[39;49m\u001B[43miter_errors\u001B[49m\u001B[43m(\u001B[49m\u001B[43minstance\u001B[49m\u001B[43m)\u001B[49m\u001B[43m)\u001B[49m\n\u001B[1;32m   1311\u001B[0m \u001B[38;5;28;01mif\u001B[39;00m error \u001B[38;5;129;01mis\u001B[39;00m \u001B[38;5;129;01mnot\u001B[39;00m \u001B[38;5;28;01mNone\u001B[39;00m:\n\u001B[1;32m   1312\u001B[0m     \u001B[38;5;28;01mraise\u001B[39;00m error\n",
      "File \u001B[0;32m~/git/vrs/venv/lib/python3.12/site-packages/jsonschema/exceptions.py:458\u001B[0m, in \u001B[0;36mbest_match\u001B[0;34m(errors, key)\u001B[0m\n\u001B[1;32m    420\u001B[0m \u001B[38;5;250m\u001B[39m\u001B[38;5;124;03m\"\"\"\u001B[39;00m\n\u001B[1;32m    421\u001B[0m \u001B[38;5;124;03mTry to find an error that appears to be the best match among given errors.\u001B[39;00m\n\u001B[1;32m    422\u001B[0m \n\u001B[0;32m   (...)\u001B[0m\n\u001B[1;32m    455\u001B[0m \u001B[38;5;124;03m    set of inputs from version to version if better heuristics are added.\u001B[39;00m\n\u001B[1;32m    456\u001B[0m \u001B[38;5;124;03m\"\"\"\u001B[39;00m\n\u001B[1;32m    457\u001B[0m errors \u001B[38;5;241m=\u001B[39m \u001B[38;5;28miter\u001B[39m(errors)\n\u001B[0;32m--> 458\u001B[0m best \u001B[38;5;241m=\u001B[39m \u001B[38;5;28;43mnext\u001B[39;49m\u001B[43m(\u001B[49m\u001B[43merrors\u001B[49m\u001B[43m,\u001B[49m\u001B[43m \u001B[49m\u001B[38;5;28;43;01mNone\u001B[39;49;00m\u001B[43m)\u001B[49m\n\u001B[1;32m    459\u001B[0m \u001B[38;5;28;01mif\u001B[39;00m best \u001B[38;5;129;01mis\u001B[39;00m \u001B[38;5;28;01mNone\u001B[39;00m:\n\u001B[1;32m    460\u001B[0m     \u001B[38;5;28;01mreturn\u001B[39;00m\n",
      "File \u001B[0;32m~/git/vrs/venv/lib/python3.12/site-packages/jsonschema/validators.py:371\u001B[0m, in \u001B[0;36mcreate.<locals>.Validator.iter_errors\u001B[0;34m(self, instance, _schema)\u001B[0m\n\u001B[1;32m    368\u001B[0m     \u001B[38;5;28;01mcontinue\u001B[39;00m\n\u001B[1;32m    370\u001B[0m errors \u001B[38;5;241m=\u001B[39m validator(\u001B[38;5;28mself\u001B[39m, v, instance, _schema) \u001B[38;5;129;01mor\u001B[39;00m ()\n\u001B[0;32m--> 371\u001B[0m \u001B[43m\u001B[49m\u001B[38;5;28;43;01mfor\u001B[39;49;00m\u001B[43m \u001B[49m\u001B[43merror\u001B[49m\u001B[43m \u001B[49m\u001B[38;5;129;43;01min\u001B[39;49;00m\u001B[43m \u001B[49m\u001B[43merrors\u001B[49m\u001B[43m:\u001B[49m\n\u001B[1;32m    372\u001B[0m \u001B[43m    \u001B[49m\u001B[38;5;66;43;03m# set details if not already set by the called fn\u001B[39;49;00m\n\u001B[1;32m    373\u001B[0m \u001B[43m    \u001B[49m\u001B[43merror\u001B[49m\u001B[38;5;241;43m.\u001B[39;49m\u001B[43m_set\u001B[49m\u001B[43m(\u001B[49m\n\u001B[1;32m    374\u001B[0m \u001B[43m        \u001B[49m\u001B[43mvalidator\u001B[49m\u001B[38;5;241;43m=\u001B[39;49m\u001B[43mk\u001B[49m\u001B[43m,\u001B[49m\n\u001B[1;32m    375\u001B[0m \u001B[43m        \u001B[49m\u001B[43mvalidator_value\u001B[49m\u001B[38;5;241;43m=\u001B[39;49m\u001B[43mv\u001B[49m\u001B[43m,\u001B[49m\n\u001B[0;32m   (...)\u001B[0m\n\u001B[1;32m    378\u001B[0m \u001B[43m        \u001B[49m\u001B[43mtype_checker\u001B[49m\u001B[38;5;241;43m=\u001B[39;49m\u001B[38;5;28;43mself\u001B[39;49m\u001B[38;5;241;43m.\u001B[39;49m\u001B[43mTYPE_CHECKER\u001B[49m\u001B[43m,\u001B[49m\n\u001B[1;32m    379\u001B[0m \u001B[43m    \u001B[49m\u001B[43m)\u001B[49m\n\u001B[1;32m    380\u001B[0m \u001B[43m    \u001B[49m\u001B[38;5;28;43;01mif\u001B[39;49;00m\u001B[43m \u001B[49m\u001B[43mk\u001B[49m\u001B[43m \u001B[49m\u001B[38;5;129;43;01mnot\u001B[39;49;00m\u001B[43m \u001B[49m\u001B[38;5;129;43;01min\u001B[39;49;00m\u001B[43m \u001B[49m\u001B[43m{\u001B[49m\u001B[38;5;124;43m\"\u001B[39;49m\u001B[38;5;124;43mif\u001B[39;49m\u001B[38;5;124;43m\"\u001B[39;49m\u001B[43m,\u001B[49m\u001B[43m \u001B[49m\u001B[38;5;124;43m\"\u001B[39;49m\u001B[38;5;124;43m$ref\u001B[39;49m\u001B[38;5;124;43m\"\u001B[39;49m\u001B[43m}\u001B[49m\u001B[43m:\u001B[49m\n",
      "File \u001B[0;32m~/git/vrs/venv/lib/python3.12/site-packages/jsonschema/_keywords.py:296\u001B[0m, in \u001B[0;36mproperties\u001B[0;34m(validator, properties, instance, schema)\u001B[0m\n\u001B[1;32m    294\u001B[0m \u001B[38;5;28;01mfor\u001B[39;00m \u001B[38;5;28mproperty\u001B[39m, subschema \u001B[38;5;129;01min\u001B[39;00m properties\u001B[38;5;241m.\u001B[39mitems():\n\u001B[1;32m    295\u001B[0m     \u001B[38;5;28;01mif\u001B[39;00m \u001B[38;5;28mproperty\u001B[39m \u001B[38;5;129;01min\u001B[39;00m instance:\n\u001B[0;32m--> 296\u001B[0m         \u001B[38;5;28;01myield from\u001B[39;00m validator\u001B[38;5;241m.\u001B[39mdescend(\n\u001B[1;32m    297\u001B[0m             instance[\u001B[38;5;28mproperty\u001B[39m],\n\u001B[1;32m    298\u001B[0m             subschema,\n\u001B[1;32m    299\u001B[0m             path\u001B[38;5;241m=\u001B[39m\u001B[38;5;28mproperty\u001B[39m,\n\u001B[1;32m    300\u001B[0m             schema_path\u001B[38;5;241m=\u001B[39m\u001B[38;5;28mproperty\u001B[39m,\n\u001B[1;32m    301\u001B[0m         )\n",
      "File \u001B[0;32m~/git/vrs/venv/lib/python3.12/site-packages/jsonschema/validators.py:419\u001B[0m, in \u001B[0;36mcreate.<locals>.Validator.descend\u001B[0;34m(self, instance, schema, path, schema_path, resolver)\u001B[0m\n\u001B[1;32m    416\u001B[0m     \u001B[38;5;28;01mcontinue\u001B[39;00m\n\u001B[1;32m    418\u001B[0m errors \u001B[38;5;241m=\u001B[39m validator(evolved, v, instance, schema) \u001B[38;5;129;01mor\u001B[39;00m ()\n\u001B[0;32m--> 419\u001B[0m \u001B[43m\u001B[49m\u001B[38;5;28;43;01mfor\u001B[39;49;00m\u001B[43m \u001B[49m\u001B[43merror\u001B[49m\u001B[43m \u001B[49m\u001B[38;5;129;43;01min\u001B[39;49;00m\u001B[43m \u001B[49m\u001B[43merrors\u001B[49m\u001B[43m:\u001B[49m\n\u001B[1;32m    420\u001B[0m \u001B[43m    \u001B[49m\u001B[38;5;66;43;03m# set details if not already set by the called fn\u001B[39;49;00m\n\u001B[1;32m    421\u001B[0m \u001B[43m    \u001B[49m\u001B[43merror\u001B[49m\u001B[38;5;241;43m.\u001B[39;49m\u001B[43m_set\u001B[49m\u001B[43m(\u001B[49m\n\u001B[1;32m    422\u001B[0m \u001B[43m        \u001B[49m\u001B[43mvalidator\u001B[49m\u001B[38;5;241;43m=\u001B[39;49m\u001B[43mk\u001B[49m\u001B[43m,\u001B[49m\n\u001B[1;32m    423\u001B[0m \u001B[43m        \u001B[49m\u001B[43mvalidator_value\u001B[49m\u001B[38;5;241;43m=\u001B[39;49m\u001B[43mv\u001B[49m\u001B[43m,\u001B[49m\n\u001B[0;32m   (...)\u001B[0m\n\u001B[1;32m    426\u001B[0m \u001B[43m        \u001B[49m\u001B[43mtype_checker\u001B[49m\u001B[38;5;241;43m=\u001B[39;49m\u001B[43mevolved\u001B[49m\u001B[38;5;241;43m.\u001B[39;49m\u001B[43mTYPE_CHECKER\u001B[49m\u001B[43m,\u001B[49m\n\u001B[1;32m    427\u001B[0m \u001B[43m    \u001B[49m\u001B[43m)\u001B[49m\n\u001B[1;32m    428\u001B[0m \u001B[43m    \u001B[49m\u001B[38;5;28;43;01mif\u001B[39;49;00m\u001B[43m \u001B[49m\u001B[43mk\u001B[49m\u001B[43m \u001B[49m\u001B[38;5;129;43;01mnot\u001B[39;49;00m\u001B[43m \u001B[49m\u001B[38;5;129;43;01min\u001B[39;49;00m\u001B[43m \u001B[49m\u001B[43m{\u001B[49m\u001B[38;5;124;43m\"\u001B[39;49m\u001B[38;5;124;43mif\u001B[39;49m\u001B[38;5;124;43m\"\u001B[39;49m\u001B[43m,\u001B[49m\u001B[43m \u001B[49m\u001B[38;5;124;43m\"\u001B[39;49m\u001B[38;5;124;43m$ref\u001B[39;49m\u001B[38;5;124;43m\"\u001B[39;49m\u001B[43m}\u001B[49m\u001B[43m:\u001B[49m\n",
      "File \u001B[0;32m~/git/vrs/venv/lib/python3.12/site-packages/jsonschema/_keywords.py:355\u001B[0m, in \u001B[0;36moneOf\u001B[0;34m(validator, oneOf, instance, schema)\u001B[0m\n\u001B[1;32m    353\u001B[0m all_errors \u001B[38;5;241m=\u001B[39m []\n\u001B[1;32m    354\u001B[0m \u001B[38;5;28;01mfor\u001B[39;00m index, subschema \u001B[38;5;129;01min\u001B[39;00m subschemas:\n\u001B[0;32m--> 355\u001B[0m     errs \u001B[38;5;241m=\u001B[39m \u001B[38;5;28;43mlist\u001B[39;49m\u001B[43m(\u001B[49m\u001B[43mvalidator\u001B[49m\u001B[38;5;241;43m.\u001B[39;49m\u001B[43mdescend\u001B[49m\u001B[43m(\u001B[49m\u001B[43minstance\u001B[49m\u001B[43m,\u001B[49m\u001B[43m \u001B[49m\u001B[43msubschema\u001B[49m\u001B[43m,\u001B[49m\u001B[43m \u001B[49m\u001B[43mschema_path\u001B[49m\u001B[38;5;241;43m=\u001B[39;49m\u001B[43mindex\u001B[49m\u001B[43m)\u001B[49m\u001B[43m)\u001B[49m\n\u001B[1;32m    356\u001B[0m     \u001B[38;5;28;01mif\u001B[39;00m \u001B[38;5;129;01mnot\u001B[39;00m errs:\n\u001B[1;32m    357\u001B[0m         first_valid \u001B[38;5;241m=\u001B[39m subschema\n",
      "File \u001B[0;32m~/git/vrs/venv/lib/python3.12/site-packages/jsonschema/validators.py:419\u001B[0m, in \u001B[0;36mcreate.<locals>.Validator.descend\u001B[0;34m(self, instance, schema, path, schema_path, resolver)\u001B[0m\n\u001B[1;32m    416\u001B[0m     \u001B[38;5;28;01mcontinue\u001B[39;00m\n\u001B[1;32m    418\u001B[0m errors \u001B[38;5;241m=\u001B[39m validator(evolved, v, instance, schema) \u001B[38;5;129;01mor\u001B[39;00m ()\n\u001B[0;32m--> 419\u001B[0m \u001B[43m\u001B[49m\u001B[38;5;28;43;01mfor\u001B[39;49;00m\u001B[43m \u001B[49m\u001B[43merror\u001B[49m\u001B[43m \u001B[49m\u001B[38;5;129;43;01min\u001B[39;49;00m\u001B[43m \u001B[49m\u001B[43merrors\u001B[49m\u001B[43m:\u001B[49m\n\u001B[1;32m    420\u001B[0m \u001B[43m    \u001B[49m\u001B[38;5;66;43;03m# set details if not already set by the called fn\u001B[39;49;00m\n\u001B[1;32m    421\u001B[0m \u001B[43m    \u001B[49m\u001B[43merror\u001B[49m\u001B[38;5;241;43m.\u001B[39;49m\u001B[43m_set\u001B[49m\u001B[43m(\u001B[49m\n\u001B[1;32m    422\u001B[0m \u001B[43m        \u001B[49m\u001B[43mvalidator\u001B[49m\u001B[38;5;241;43m=\u001B[39;49m\u001B[43mk\u001B[49m\u001B[43m,\u001B[49m\n\u001B[1;32m    423\u001B[0m \u001B[43m        \u001B[49m\u001B[43mvalidator_value\u001B[49m\u001B[38;5;241;43m=\u001B[39;49m\u001B[43mv\u001B[49m\u001B[43m,\u001B[49m\n\u001B[0;32m   (...)\u001B[0m\n\u001B[1;32m    426\u001B[0m \u001B[43m        \u001B[49m\u001B[43mtype_checker\u001B[49m\u001B[38;5;241;43m=\u001B[39;49m\u001B[43mevolved\u001B[49m\u001B[38;5;241;43m.\u001B[39;49m\u001B[43mTYPE_CHECKER\u001B[49m\u001B[43m,\u001B[49m\n\u001B[1;32m    427\u001B[0m \u001B[43m    \u001B[49m\u001B[43m)\u001B[49m\n\u001B[1;32m    428\u001B[0m \u001B[43m    \u001B[49m\u001B[38;5;28;43;01mif\u001B[39;49;00m\u001B[43m \u001B[49m\u001B[43mk\u001B[49m\u001B[43m \u001B[49m\u001B[38;5;129;43;01mnot\u001B[39;49;00m\u001B[43m \u001B[49m\u001B[38;5;129;43;01min\u001B[39;49;00m\u001B[43m \u001B[49m\u001B[43m{\u001B[49m\u001B[38;5;124;43m\"\u001B[39;49m\u001B[38;5;124;43mif\u001B[39;49m\u001B[38;5;124;43m\"\u001B[39;49m\u001B[43m,\u001B[49m\u001B[43m \u001B[49m\u001B[38;5;124;43m\"\u001B[39;49m\u001B[38;5;124;43m$ref\u001B[39;49m\u001B[38;5;124;43m\"\u001B[39;49m\u001B[43m}\u001B[49m\u001B[43m:\u001B[49m\n",
      "File \u001B[0;32m~/git/vrs/venv/lib/python3.12/site-packages/jsonschema/_keywords.py:275\u001B[0m, in \u001B[0;36mref\u001B[0;34m(validator, ref, instance, schema)\u001B[0m\n\u001B[1;32m    274\u001B[0m \u001B[38;5;28;01mdef\u001B[39;00m \u001B[38;5;21mref\u001B[39m(validator, ref, instance, schema):\n\u001B[0;32m--> 275\u001B[0m     \u001B[38;5;28;01myield from\u001B[39;00m \u001B[43mvalidator\u001B[49m\u001B[38;5;241;43m.\u001B[39;49m\u001B[43m_validate_reference\u001B[49m\u001B[43m(\u001B[49m\u001B[43mref\u001B[49m\u001B[38;5;241;43m=\u001B[39;49m\u001B[43mref\u001B[49m\u001B[43m,\u001B[49m\u001B[43m \u001B[49m\u001B[43minstance\u001B[49m\u001B[38;5;241;43m=\u001B[39;49m\u001B[43minstance\u001B[49m\u001B[43m)\u001B[49m\n",
      "File \u001B[0;32m~/git/vrs/venv/lib/python3.12/site-packages/jsonschema/validators.py:452\u001B[0m, in \u001B[0;36mcreate.<locals>.Validator._validate_reference\u001B[0;34m(self, ref, instance)\u001B[0m\n\u001B[1;32m    450\u001B[0m         resolved \u001B[38;5;241m=\u001B[39m \u001B[38;5;28mself\u001B[39m\u001B[38;5;241m.\u001B[39m_resolver\u001B[38;5;241m.\u001B[39mlookup(ref)\n\u001B[1;32m    451\u001B[0m     \u001B[38;5;28;01mexcept\u001B[39;00m referencing\u001B[38;5;241m.\u001B[39mexceptions\u001B[38;5;241m.\u001B[39mUnresolvable \u001B[38;5;28;01mas\u001B[39;00m err:\n\u001B[0;32m--> 452\u001B[0m         \u001B[38;5;28;01mraise\u001B[39;00m exceptions\u001B[38;5;241m.\u001B[39m_WrappedReferencingError(err) \u001B[38;5;28;01mfrom\u001B[39;00m \u001B[38;5;21;01merr\u001B[39;00m\n\u001B[1;32m    454\u001B[0m     \u001B[38;5;28;01mreturn\u001B[39;00m \u001B[38;5;28mself\u001B[39m\u001B[38;5;241m.\u001B[39mdescend(\n\u001B[1;32m    455\u001B[0m         instance,\n\u001B[1;32m    456\u001B[0m         resolved\u001B[38;5;241m.\u001B[39mcontents,\n\u001B[1;32m    457\u001B[0m         resolver\u001B[38;5;241m=\u001B[39mresolved\u001B[38;5;241m.\u001B[39mresolver,\n\u001B[1;32m    458\u001B[0m     )\n\u001B[1;32m    459\u001B[0m \u001B[38;5;28;01melse\u001B[39;00m:\n",
      "\u001B[0;31m_WrappedReferencingError\u001B[0m: Unresolvable: SequenceReference"
     ]
    }
   ],
   "source": [
    "sl_schema_filepath = vrs_jsons_path / 'SequenceLocation'\n",
    "sl = {\n",
    "    'sequenceReference': {\n",
    "        'refgetAccession': 'SQ.9W6SPR3RMCHWCSGJLQHE6KBOD285V5SW',\n",
    "        'type':'SequenceReference'\n",
    "    },\n",
    "    'start': 100,\n",
    "    'end': [None, 150],\n",
    "    'type': 'SequenceLocation'\n",
    "}\n",
    "\n",
    "with open(sl_schema_filepath, 'r') as sl_js_file:\n",
    "    sl_schema = json.load(sl_js_file)\n",
    "js.validate(sl, sl_schema)"
   ],
   "metadata": {
    "collapsed": false,
    "ExecuteTime": {
     "end_time": "2024-03-05T05:55:38.058350Z",
     "start_time": "2024-03-05T05:55:37.572270Z"
    }
   },
   "id": "c387ec50b21b5490",
   "execution_count": 38
  },
  {
   "cell_type": "markdown",
   "source": [
    "The `_WrappedReferencingError` informs us that, without an anchor provided by `$id`, there is no way to resolve the relative references. This makes sense, since the system has no idea where the loaded JSON came from!\n",
    "\n",
    "We can address this by using the `referencing` library and pre-loading all of our schemas:"
   ],
   "metadata": {
    "collapsed": false
   },
   "id": "f87b0dc4c369fb39"
  },
  {
   "cell_type": "code",
   "outputs": [],
   "source": [
    "from referencing import Registry, Resource\n",
    "from referencing.jsonschema import DRAFT202012\n",
    "from jsonschema import Draft202012Validator\n",
    "import re"
   ],
   "metadata": {
    "collapsed": false,
    "ExecuteTime": {
     "end_time": "2024-03-05T05:55:38.926262Z",
     "start_time": "2024-03-05T05:55:38.924607Z"
    }
   },
   "id": "863e702c5df870aa",
   "execution_count": 39
  },
  {
   "cell_type": "code",
   "outputs": [],
   "source": [
    "ga4gh_re = re.compile(r'.*\\/ga4gh\\/schema\\/([\\w\\-\\.]+)\\/[\\w\\.]+\\/(.*)$')\n",
    "\n",
    "def retrieve_rel_ref(ga4gh_ref: str):\n",
    "    ga4gh_match = ga4gh_re.match(ga4gh_ref)\n",
    "    if ga4gh_match is None:\n",
    "        raise ValueError(f'ga4gh_ref {ga4gh_ref} is not a root GA4GH reference')\n",
    "    schema_module = ga4gh_match.group(1)\n",
    "    local_path = ga4gh_match.group(2)\n",
    "    resolved_path = (SCHEMA_DIR / schema_module / local_path).resolve()\n",
    "    schema = json.loads(resolved_path.read_text())\n",
    "    return Resource.from_contents(schema)\n",
    "\n",
    "\n",
    "vrs_js_registry = Registry(retrieve=retrieve_rel_ref)\n",
    "vrs_js = dict()\n",
    "vrs_validator = dict()\n",
    "\n",
    "for schema_path in vrs_jsons_path.glob('*'):\n",
    "    content = json.loads(schema_path.read_text())\n",
    "    schema_uri = schema_path.as_uri()\n",
    "    content['id'] = schema_uri\n",
    "    schema_resource = Resource(contents=content, specification=DRAFT202012)\n",
    "    vrs_js[schema_path.stem] = content\n",
    "    vrs_schemas = vrs_js_registry.with_resources([\n",
    "        (schema_path.name, schema_resource),\n",
    "        (schema_uri, schema_resource)\n",
    "    ])\n",
    "\n",
    "for cls in vrs_js:\n",
    "    vrs_validator[cls] = Draft202012Validator(vrs_js[cls], registry=vrs_js_registry)"
   ],
   "metadata": {
    "collapsed": false,
    "ExecuteTime": {
     "end_time": "2024-03-05T07:02:14.392835Z",
     "start_time": "2024-03-05T07:02:14.384829Z"
    }
   },
   "id": "a347d1ccfaa002b2",
   "execution_count": 58
  },
  {
   "cell_type": "markdown",
   "source": [
    "Now we can validate! Calls to refs from the JSONs directory are retrievable from the registry, and relative refs outside of the VRS JSONs are handled by the `retrieve_rel_ref` method."
   ],
   "metadata": {
    "collapsed": false
   },
   "id": "3dcc31a2796ae533"
  },
  {
   "cell_type": "code",
   "outputs": [],
   "source": [
    "vrs_validator['SequenceLocation'].validate(sl)"
   ],
   "metadata": {
    "collapsed": false,
    "ExecuteTime": {
     "end_time": "2024-03-05T07:02:15.345180Z",
     "start_time": "2024-03-05T07:02:15.341708Z"
    }
   },
   "id": "ea8760f6bed04531",
   "execution_count": 59
  },
  {
   "cell_type": "code",
   "outputs": [],
   "source": [
    "a = {\n",
    "    'location': sl,\n",
    "    'state': {\n",
    "        'type': 'ReferenceLengthExpression',\n",
    "        'length': [32, 35],\n",
    "        'repeatSubunitLength': 3\n",
    "    },\n",
    "    'type': 'Allele'\n",
    "}\n",
    "vrs_validator['Allele'].validate(a)"
   ],
   "metadata": {
    "collapsed": false,
    "ExecuteTime": {
     "end_time": "2024-03-05T07:02:15.827130Z",
     "start_time": "2024-03-05T07:02:15.817240Z"
    }
   },
   "id": "2e2bc59ea6773f88",
   "execution_count": 60
  }
 ],
 "metadata": {
  "kernelspec": {
   "display_name": "Python 3",
   "language": "python",
   "name": "python3"
  },
  "language_info": {
   "codemirror_mode": {
    "name": "ipython",
    "version": 2
   },
   "file_extension": ".py",
   "mimetype": "text/x-python",
   "name": "python",
   "nbconvert_exporter": "python",
   "pygments_lexer": "ipython2",
   "version": "2.7.6"
  }
 },
 "nbformat": 4,
 "nbformat_minor": 5
}
