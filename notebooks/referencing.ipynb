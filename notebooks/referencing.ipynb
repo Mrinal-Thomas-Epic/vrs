{
 "cells": [
  {
   "cell_type": "markdown",
   "source": [
    "# Relative References in JSON Schema\n",
    "With recent updates to the schema build structure, GKS schemas now exist across multiple, cross-referenced files in the schema directory, including imports from other upstream sources.\n",
    "\n",
    "To handle this, schemas need to have their '$id' attribute set.\n",
    "\n",
    "First, a look at the situation _without_ doing so:"
   ],
   "metadata": {
    "collapsed": false
   },
   "id": "ffed4e313e949ce"
  },
  {
   "cell_type": "code",
   "outputs": [],
   "source": [
    "from pathlib import Path\n",
    "import jsonschema as js\n",
    "import json\n",
    "import os\n",
    "\n",
    "root_dir = Path(os.getcwd()).parent\n",
    "schema_dir = root_dir / \"schema\"\n",
    "vrs_jsons_path = schema_dir / \"json\""
   ],
   "metadata": {
    "collapsed": false,
    "ExecuteTime": {
     "end_time": "2024-03-04T02:56:59.686789Z",
     "start_time": "2024-03-04T02:56:59.679470Z"
    }
   },
   "id": "18940c06dd6885bd",
   "execution_count": 15
  },
  {
   "cell_type": "code",
   "outputs": [
    {
     "ename": "_WrappedReferencingError",
     "evalue": "Unresolvable: SequenceReference.json",
     "output_type": "error",
     "traceback": [
      "\u001B[0;31m---------------------------------------------------------------------------\u001B[0m",
      "\u001B[0;31mValueError\u001B[0m                                Traceback (most recent call last)",
      "File \u001B[0;32m~/git/vrs/venv/lib/python3.12/site-packages/referencing/_core.py:417\u001B[0m, in \u001B[0;36mRegistry.get_or_retrieve\u001B[0;34m(self, uri)\u001B[0m\n\u001B[1;32m    416\u001B[0m \u001B[38;5;28;01mtry\u001B[39;00m:\n\u001B[0;32m--> 417\u001B[0m     resource \u001B[38;5;241m=\u001B[39m \u001B[43mregistry\u001B[49m\u001B[38;5;241;43m.\u001B[39;49m\u001B[43m_retrieve\u001B[49m\u001B[43m(\u001B[49m\u001B[43muri\u001B[49m\u001B[43m)\u001B[49m\n\u001B[1;32m    418\u001B[0m \u001B[38;5;28;01mexcept\u001B[39;00m (\n\u001B[1;32m    419\u001B[0m     exceptions\u001B[38;5;241m.\u001B[39mCannotDetermineSpecification,\n\u001B[1;32m    420\u001B[0m     exceptions\u001B[38;5;241m.\u001B[39mNoSuchResource,\n\u001B[1;32m    421\u001B[0m ):\n",
      "File \u001B[0;32m~/git/vrs/venv/lib/python3.12/site-packages/jsonschema/validators.py:111\u001B[0m, in \u001B[0;36m_warn_for_remote_retrieve\u001B[0;34m(uri)\u001B[0m\n\u001B[1;32m    110\u001B[0m headers \u001B[38;5;241m=\u001B[39m {\u001B[38;5;124m\"\u001B[39m\u001B[38;5;124mUser-Agent\u001B[39m\u001B[38;5;124m\"\u001B[39m: \u001B[38;5;124m\"\u001B[39m\u001B[38;5;124mpython-jsonschema (deprecated $ref resolution)\u001B[39m\u001B[38;5;124m\"\u001B[39m}\n\u001B[0;32m--> 111\u001B[0m request \u001B[38;5;241m=\u001B[39m \u001B[43mRequest\u001B[49m\u001B[43m(\u001B[49m\u001B[43muri\u001B[49m\u001B[43m,\u001B[49m\u001B[43m \u001B[49m\u001B[43mheaders\u001B[49m\u001B[38;5;241;43m=\u001B[39;49m\u001B[43mheaders\u001B[49m\u001B[43m)\u001B[49m  \u001B[38;5;66;03m# noqa: S310\u001B[39;00m\n\u001B[1;32m    112\u001B[0m \u001B[38;5;28;01mwith\u001B[39;00m urlopen(request) \u001B[38;5;28;01mas\u001B[39;00m response:  \u001B[38;5;66;03m# noqa: S310\u001B[39;00m\n",
      "File \u001B[0;32m~/.pyenv/versions/3.12.1/lib/python3.12/urllib/request.py:318\u001B[0m, in \u001B[0;36mRequest.__init__\u001B[0;34m(self, url, data, headers, origin_req_host, unverifiable, method)\u001B[0m\n\u001B[1;32m    315\u001B[0m \u001B[38;5;28;01mdef\u001B[39;00m \u001B[38;5;21m__init__\u001B[39m(\u001B[38;5;28mself\u001B[39m, url, data\u001B[38;5;241m=\u001B[39m\u001B[38;5;28;01mNone\u001B[39;00m, headers\u001B[38;5;241m=\u001B[39m{},\n\u001B[1;32m    316\u001B[0m              origin_req_host\u001B[38;5;241m=\u001B[39m\u001B[38;5;28;01mNone\u001B[39;00m, unverifiable\u001B[38;5;241m=\u001B[39m\u001B[38;5;28;01mFalse\u001B[39;00m,\n\u001B[1;32m    317\u001B[0m              method\u001B[38;5;241m=\u001B[39m\u001B[38;5;28;01mNone\u001B[39;00m):\n\u001B[0;32m--> 318\u001B[0m     \u001B[38;5;28;43mself\u001B[39;49m\u001B[38;5;241;43m.\u001B[39;49m\u001B[43mfull_url\u001B[49m \u001B[38;5;241m=\u001B[39m url\n\u001B[1;32m    319\u001B[0m     \u001B[38;5;28mself\u001B[39m\u001B[38;5;241m.\u001B[39mheaders \u001B[38;5;241m=\u001B[39m {}\n",
      "File \u001B[0;32m~/.pyenv/versions/3.12.1/lib/python3.12/urllib/request.py:344\u001B[0m, in \u001B[0;36mRequest.full_url\u001B[0;34m(self, url)\u001B[0m\n\u001B[1;32m    343\u001B[0m \u001B[38;5;28mself\u001B[39m\u001B[38;5;241m.\u001B[39m_full_url, \u001B[38;5;28mself\u001B[39m\u001B[38;5;241m.\u001B[39mfragment \u001B[38;5;241m=\u001B[39m _splittag(\u001B[38;5;28mself\u001B[39m\u001B[38;5;241m.\u001B[39m_full_url)\n\u001B[0;32m--> 344\u001B[0m \u001B[38;5;28;43mself\u001B[39;49m\u001B[38;5;241;43m.\u001B[39;49m\u001B[43m_parse\u001B[49m\u001B[43m(\u001B[49m\u001B[43m)\u001B[49m\n",
      "File \u001B[0;32m~/.pyenv/versions/3.12.1/lib/python3.12/urllib/request.py:373\u001B[0m, in \u001B[0;36mRequest._parse\u001B[0;34m(self)\u001B[0m\n\u001B[1;32m    372\u001B[0m \u001B[38;5;28;01mif\u001B[39;00m \u001B[38;5;28mself\u001B[39m\u001B[38;5;241m.\u001B[39mtype \u001B[38;5;129;01mis\u001B[39;00m \u001B[38;5;28;01mNone\u001B[39;00m:\n\u001B[0;32m--> 373\u001B[0m     \u001B[38;5;28;01mraise\u001B[39;00m \u001B[38;5;167;01mValueError\u001B[39;00m(\u001B[38;5;124m\"\u001B[39m\u001B[38;5;124munknown url type: \u001B[39m\u001B[38;5;132;01m%r\u001B[39;00m\u001B[38;5;124m\"\u001B[39m \u001B[38;5;241m%\u001B[39m \u001B[38;5;28mself\u001B[39m\u001B[38;5;241m.\u001B[39mfull_url)\n\u001B[1;32m    374\u001B[0m \u001B[38;5;28mself\u001B[39m\u001B[38;5;241m.\u001B[39mhost, \u001B[38;5;28mself\u001B[39m\u001B[38;5;241m.\u001B[39mselector \u001B[38;5;241m=\u001B[39m _splithost(rest)\n",
      "\u001B[0;31mValueError\u001B[0m: unknown url type: 'SequenceReference.json'",
      "\nThe above exception was the direct cause of the following exception:\n",
      "\u001B[0;31mUnretrievable\u001B[0m                             Traceback (most recent call last)",
      "File \u001B[0;32m~/git/vrs/venv/lib/python3.12/site-packages/referencing/_core.py:667\u001B[0m, in \u001B[0;36mResolver.lookup\u001B[0;34m(self, ref)\u001B[0m\n\u001B[1;32m    666\u001B[0m \u001B[38;5;28;01mtry\u001B[39;00m:\n\u001B[0;32m--> 667\u001B[0m     retrieved \u001B[38;5;241m=\u001B[39m \u001B[38;5;28;43mself\u001B[39;49m\u001B[38;5;241;43m.\u001B[39;49m\u001B[43m_registry\u001B[49m\u001B[38;5;241;43m.\u001B[39;49m\u001B[43mget_or_retrieve\u001B[49m\u001B[43m(\u001B[49m\u001B[43muri\u001B[49m\u001B[43m)\u001B[49m\n\u001B[1;32m    668\u001B[0m \u001B[38;5;28;01mexcept\u001B[39;00m exceptions\u001B[38;5;241m.\u001B[39mNoSuchResource:\n",
      "File \u001B[0;32m~/git/vrs/venv/lib/python3.12/site-packages/referencing/_core.py:424\u001B[0m, in \u001B[0;36mRegistry.get_or_retrieve\u001B[0;34m(self, uri)\u001B[0m\n\u001B[1;32m    423\u001B[0m \u001B[38;5;28;01mexcept\u001B[39;00m \u001B[38;5;167;01mException\u001B[39;00m \u001B[38;5;28;01mas\u001B[39;00m error:  \u001B[38;5;66;03m# noqa: BLE001\u001B[39;00m\n\u001B[0;32m--> 424\u001B[0m     \u001B[38;5;28;01mraise\u001B[39;00m exceptions\u001B[38;5;241m.\u001B[39mUnretrievable(ref\u001B[38;5;241m=\u001B[39muri) \u001B[38;5;28;01mfrom\u001B[39;00m \u001B[38;5;21;01merror\u001B[39;00m\n\u001B[1;32m    425\u001B[0m \u001B[38;5;28;01melse\u001B[39;00m:\n",
      "\u001B[0;31mUnretrievable\u001B[0m: 'SequenceReference.json'",
      "\nThe above exception was the direct cause of the following exception:\n",
      "\u001B[0;31mUnresolvable\u001B[0m                              Traceback (most recent call last)",
      "File \u001B[0;32m~/git/vrs/venv/lib/python3.12/site-packages/jsonschema/validators.py:450\u001B[0m, in \u001B[0;36mcreate.<locals>.Validator._validate_reference\u001B[0;34m(self, ref, instance)\u001B[0m\n\u001B[1;32m    449\u001B[0m \u001B[38;5;28;01mtry\u001B[39;00m:\n\u001B[0;32m--> 450\u001B[0m     resolved \u001B[38;5;241m=\u001B[39m \u001B[38;5;28;43mself\u001B[39;49m\u001B[38;5;241;43m.\u001B[39;49m\u001B[43m_resolver\u001B[49m\u001B[38;5;241;43m.\u001B[39;49m\u001B[43mlookup\u001B[49m\u001B[43m(\u001B[49m\u001B[43mref\u001B[49m\u001B[43m)\u001B[49m\n\u001B[1;32m    451\u001B[0m \u001B[38;5;28;01mexcept\u001B[39;00m referencing\u001B[38;5;241m.\u001B[39mexceptions\u001B[38;5;241m.\u001B[39mUnresolvable \u001B[38;5;28;01mas\u001B[39;00m err:\n",
      "File \u001B[0;32m~/git/vrs/venv/lib/python3.12/site-packages/referencing/_core.py:671\u001B[0m, in \u001B[0;36mResolver.lookup\u001B[0;34m(self, ref)\u001B[0m\n\u001B[1;32m    670\u001B[0m \u001B[38;5;28;01mexcept\u001B[39;00m exceptions\u001B[38;5;241m.\u001B[39mUnretrievable \u001B[38;5;28;01mas\u001B[39;00m error:\n\u001B[0;32m--> 671\u001B[0m     \u001B[38;5;28;01mraise\u001B[39;00m exceptions\u001B[38;5;241m.\u001B[39mUnresolvable(ref\u001B[38;5;241m=\u001B[39mref) \u001B[38;5;28;01mfrom\u001B[39;00m \u001B[38;5;21;01merror\u001B[39;00m\n\u001B[1;32m    673\u001B[0m \u001B[38;5;28;01mif\u001B[39;00m fragment\u001B[38;5;241m.\u001B[39mstartswith(\u001B[38;5;124m\"\u001B[39m\u001B[38;5;124m/\u001B[39m\u001B[38;5;124m\"\u001B[39m):\n",
      "\u001B[0;31mUnresolvable\u001B[0m: SequenceReference.json",
      "\nThe above exception was the direct cause of the following exception:\n",
      "\u001B[0;31m_WrappedReferencingError\u001B[0m                  Traceback (most recent call last)",
      "Cell \u001B[0;32mIn[17], line 14\u001B[0m\n\u001B[1;32m     12\u001B[0m \u001B[38;5;28;01mwith\u001B[39;00m \u001B[38;5;28mopen\u001B[39m(sl_schema_filepath, \u001B[38;5;124m'\u001B[39m\u001B[38;5;124mr\u001B[39m\u001B[38;5;124m'\u001B[39m) \u001B[38;5;28;01mas\u001B[39;00m sl_js_file:\n\u001B[1;32m     13\u001B[0m     sl_schema \u001B[38;5;241m=\u001B[39m json\u001B[38;5;241m.\u001B[39mload(sl_js_file)\n\u001B[0;32m---> 14\u001B[0m \u001B[43mjs\u001B[49m\u001B[38;5;241;43m.\u001B[39;49m\u001B[43mvalidate\u001B[49m\u001B[43m(\u001B[49m\u001B[43msl\u001B[49m\u001B[43m,\u001B[49m\u001B[43m \u001B[49m\u001B[43msl_schema\u001B[49m\u001B[43m)\u001B[49m\n",
      "File \u001B[0;32m~/git/vrs/venv/lib/python3.12/site-packages/jsonschema/validators.py:1310\u001B[0m, in \u001B[0;36mvalidate\u001B[0;34m(instance, schema, cls, *args, **kwargs)\u001B[0m\n\u001B[1;32m   1308\u001B[0m \u001B[38;5;28mcls\u001B[39m\u001B[38;5;241m.\u001B[39mcheck_schema(schema)\n\u001B[1;32m   1309\u001B[0m validator \u001B[38;5;241m=\u001B[39m \u001B[38;5;28mcls\u001B[39m(schema, \u001B[38;5;241m*\u001B[39margs, \u001B[38;5;241m*\u001B[39m\u001B[38;5;241m*\u001B[39mkwargs)\n\u001B[0;32m-> 1310\u001B[0m error \u001B[38;5;241m=\u001B[39m \u001B[43mexceptions\u001B[49m\u001B[38;5;241;43m.\u001B[39;49m\u001B[43mbest_match\u001B[49m\u001B[43m(\u001B[49m\u001B[43mvalidator\u001B[49m\u001B[38;5;241;43m.\u001B[39;49m\u001B[43miter_errors\u001B[49m\u001B[43m(\u001B[49m\u001B[43minstance\u001B[49m\u001B[43m)\u001B[49m\u001B[43m)\u001B[49m\n\u001B[1;32m   1311\u001B[0m \u001B[38;5;28;01mif\u001B[39;00m error \u001B[38;5;129;01mis\u001B[39;00m \u001B[38;5;129;01mnot\u001B[39;00m \u001B[38;5;28;01mNone\u001B[39;00m:\n\u001B[1;32m   1312\u001B[0m     \u001B[38;5;28;01mraise\u001B[39;00m error\n",
      "File \u001B[0;32m~/git/vrs/venv/lib/python3.12/site-packages/jsonschema/exceptions.py:458\u001B[0m, in \u001B[0;36mbest_match\u001B[0;34m(errors, key)\u001B[0m\n\u001B[1;32m    420\u001B[0m \u001B[38;5;250m\u001B[39m\u001B[38;5;124;03m\"\"\"\u001B[39;00m\n\u001B[1;32m    421\u001B[0m \u001B[38;5;124;03mTry to find an error that appears to be the best match among given errors.\u001B[39;00m\n\u001B[1;32m    422\u001B[0m \n\u001B[0;32m   (...)\u001B[0m\n\u001B[1;32m    455\u001B[0m \u001B[38;5;124;03m    set of inputs from version to version if better heuristics are added.\u001B[39;00m\n\u001B[1;32m    456\u001B[0m \u001B[38;5;124;03m\"\"\"\u001B[39;00m\n\u001B[1;32m    457\u001B[0m errors \u001B[38;5;241m=\u001B[39m \u001B[38;5;28miter\u001B[39m(errors)\n\u001B[0;32m--> 458\u001B[0m best \u001B[38;5;241m=\u001B[39m \u001B[38;5;28;43mnext\u001B[39;49m\u001B[43m(\u001B[49m\u001B[43merrors\u001B[49m\u001B[43m,\u001B[49m\u001B[43m \u001B[49m\u001B[38;5;28;43;01mNone\u001B[39;49;00m\u001B[43m)\u001B[49m\n\u001B[1;32m    459\u001B[0m \u001B[38;5;28;01mif\u001B[39;00m best \u001B[38;5;129;01mis\u001B[39;00m \u001B[38;5;28;01mNone\u001B[39;00m:\n\u001B[1;32m    460\u001B[0m     \u001B[38;5;28;01mreturn\u001B[39;00m\n",
      "File \u001B[0;32m~/git/vrs/venv/lib/python3.12/site-packages/jsonschema/validators.py:371\u001B[0m, in \u001B[0;36mcreate.<locals>.Validator.iter_errors\u001B[0;34m(self, instance, _schema)\u001B[0m\n\u001B[1;32m    368\u001B[0m     \u001B[38;5;28;01mcontinue\u001B[39;00m\n\u001B[1;32m    370\u001B[0m errors \u001B[38;5;241m=\u001B[39m validator(\u001B[38;5;28mself\u001B[39m, v, instance, _schema) \u001B[38;5;129;01mor\u001B[39;00m ()\n\u001B[0;32m--> 371\u001B[0m \u001B[43m\u001B[49m\u001B[38;5;28;43;01mfor\u001B[39;49;00m\u001B[43m \u001B[49m\u001B[43merror\u001B[49m\u001B[43m \u001B[49m\u001B[38;5;129;43;01min\u001B[39;49;00m\u001B[43m \u001B[49m\u001B[43merrors\u001B[49m\u001B[43m:\u001B[49m\n\u001B[1;32m    372\u001B[0m \u001B[43m    \u001B[49m\u001B[38;5;66;43;03m# set details if not already set by the called fn\u001B[39;49;00m\n\u001B[1;32m    373\u001B[0m \u001B[43m    \u001B[49m\u001B[43merror\u001B[49m\u001B[38;5;241;43m.\u001B[39;49m\u001B[43m_set\u001B[49m\u001B[43m(\u001B[49m\n\u001B[1;32m    374\u001B[0m \u001B[43m        \u001B[49m\u001B[43mvalidator\u001B[49m\u001B[38;5;241;43m=\u001B[39;49m\u001B[43mk\u001B[49m\u001B[43m,\u001B[49m\n\u001B[1;32m    375\u001B[0m \u001B[43m        \u001B[49m\u001B[43mvalidator_value\u001B[49m\u001B[38;5;241;43m=\u001B[39;49m\u001B[43mv\u001B[49m\u001B[43m,\u001B[49m\n\u001B[0;32m   (...)\u001B[0m\n\u001B[1;32m    378\u001B[0m \u001B[43m        \u001B[49m\u001B[43mtype_checker\u001B[49m\u001B[38;5;241;43m=\u001B[39;49m\u001B[38;5;28;43mself\u001B[39;49m\u001B[38;5;241;43m.\u001B[39;49m\u001B[43mTYPE_CHECKER\u001B[49m\u001B[43m,\u001B[49m\n\u001B[1;32m    379\u001B[0m \u001B[43m    \u001B[49m\u001B[43m)\u001B[49m\n\u001B[1;32m    380\u001B[0m \u001B[43m    \u001B[49m\u001B[38;5;28;43;01mif\u001B[39;49;00m\u001B[43m \u001B[49m\u001B[43mk\u001B[49m\u001B[43m \u001B[49m\u001B[38;5;129;43;01mnot\u001B[39;49;00m\u001B[43m \u001B[49m\u001B[38;5;129;43;01min\u001B[39;49;00m\u001B[43m \u001B[49m\u001B[43m{\u001B[49m\u001B[38;5;124;43m\"\u001B[39;49m\u001B[38;5;124;43mif\u001B[39;49m\u001B[38;5;124;43m\"\u001B[39;49m\u001B[43m,\u001B[49m\u001B[43m \u001B[49m\u001B[38;5;124;43m\"\u001B[39;49m\u001B[38;5;124;43m$ref\u001B[39;49m\u001B[38;5;124;43m\"\u001B[39;49m\u001B[43m}\u001B[49m\u001B[43m:\u001B[49m\n",
      "File \u001B[0;32m~/git/vrs/venv/lib/python3.12/site-packages/jsonschema/_keywords.py:296\u001B[0m, in \u001B[0;36mproperties\u001B[0;34m(validator, properties, instance, schema)\u001B[0m\n\u001B[1;32m    294\u001B[0m \u001B[38;5;28;01mfor\u001B[39;00m \u001B[38;5;28mproperty\u001B[39m, subschema \u001B[38;5;129;01min\u001B[39;00m properties\u001B[38;5;241m.\u001B[39mitems():\n\u001B[1;32m    295\u001B[0m     \u001B[38;5;28;01mif\u001B[39;00m \u001B[38;5;28mproperty\u001B[39m \u001B[38;5;129;01min\u001B[39;00m instance:\n\u001B[0;32m--> 296\u001B[0m         \u001B[38;5;28;01myield from\u001B[39;00m validator\u001B[38;5;241m.\u001B[39mdescend(\n\u001B[1;32m    297\u001B[0m             instance[\u001B[38;5;28mproperty\u001B[39m],\n\u001B[1;32m    298\u001B[0m             subschema,\n\u001B[1;32m    299\u001B[0m             path\u001B[38;5;241m=\u001B[39m\u001B[38;5;28mproperty\u001B[39m,\n\u001B[1;32m    300\u001B[0m             schema_path\u001B[38;5;241m=\u001B[39m\u001B[38;5;28mproperty\u001B[39m,\n\u001B[1;32m    301\u001B[0m         )\n",
      "File \u001B[0;32m~/git/vrs/venv/lib/python3.12/site-packages/jsonschema/validators.py:419\u001B[0m, in \u001B[0;36mcreate.<locals>.Validator.descend\u001B[0;34m(self, instance, schema, path, schema_path, resolver)\u001B[0m\n\u001B[1;32m    416\u001B[0m     \u001B[38;5;28;01mcontinue\u001B[39;00m\n\u001B[1;32m    418\u001B[0m errors \u001B[38;5;241m=\u001B[39m validator(evolved, v, instance, schema) \u001B[38;5;129;01mor\u001B[39;00m ()\n\u001B[0;32m--> 419\u001B[0m \u001B[43m\u001B[49m\u001B[38;5;28;43;01mfor\u001B[39;49;00m\u001B[43m \u001B[49m\u001B[43merror\u001B[49m\u001B[43m \u001B[49m\u001B[38;5;129;43;01min\u001B[39;49;00m\u001B[43m \u001B[49m\u001B[43merrors\u001B[49m\u001B[43m:\u001B[49m\n\u001B[1;32m    420\u001B[0m \u001B[43m    \u001B[49m\u001B[38;5;66;43;03m# set details if not already set by the called fn\u001B[39;49;00m\n\u001B[1;32m    421\u001B[0m \u001B[43m    \u001B[49m\u001B[43merror\u001B[49m\u001B[38;5;241;43m.\u001B[39;49m\u001B[43m_set\u001B[49m\u001B[43m(\u001B[49m\n\u001B[1;32m    422\u001B[0m \u001B[43m        \u001B[49m\u001B[43mvalidator\u001B[49m\u001B[38;5;241;43m=\u001B[39;49m\u001B[43mk\u001B[49m\u001B[43m,\u001B[49m\n\u001B[1;32m    423\u001B[0m \u001B[43m        \u001B[49m\u001B[43mvalidator_value\u001B[49m\u001B[38;5;241;43m=\u001B[39;49m\u001B[43mv\u001B[49m\u001B[43m,\u001B[49m\n\u001B[0;32m   (...)\u001B[0m\n\u001B[1;32m    426\u001B[0m \u001B[43m        \u001B[49m\u001B[43mtype_checker\u001B[49m\u001B[38;5;241;43m=\u001B[39;49m\u001B[43mevolved\u001B[49m\u001B[38;5;241;43m.\u001B[39;49m\u001B[43mTYPE_CHECKER\u001B[49m\u001B[43m,\u001B[49m\n\u001B[1;32m    427\u001B[0m \u001B[43m    \u001B[49m\u001B[43m)\u001B[49m\n\u001B[1;32m    428\u001B[0m \u001B[43m    \u001B[49m\u001B[38;5;28;43;01mif\u001B[39;49;00m\u001B[43m \u001B[49m\u001B[43mk\u001B[49m\u001B[43m \u001B[49m\u001B[38;5;129;43;01mnot\u001B[39;49;00m\u001B[43m \u001B[49m\u001B[38;5;129;43;01min\u001B[39;49;00m\u001B[43m \u001B[49m\u001B[43m{\u001B[49m\u001B[38;5;124;43m\"\u001B[39;49m\u001B[38;5;124;43mif\u001B[39;49m\u001B[38;5;124;43m\"\u001B[39;49m\u001B[43m,\u001B[49m\u001B[43m \u001B[49m\u001B[38;5;124;43m\"\u001B[39;49m\u001B[38;5;124;43m$ref\u001B[39;49m\u001B[38;5;124;43m\"\u001B[39;49m\u001B[43m}\u001B[49m\u001B[43m:\u001B[49m\n",
      "File \u001B[0;32m~/git/vrs/venv/lib/python3.12/site-packages/jsonschema/_keywords.py:355\u001B[0m, in \u001B[0;36moneOf\u001B[0;34m(validator, oneOf, instance, schema)\u001B[0m\n\u001B[1;32m    353\u001B[0m all_errors \u001B[38;5;241m=\u001B[39m []\n\u001B[1;32m    354\u001B[0m \u001B[38;5;28;01mfor\u001B[39;00m index, subschema \u001B[38;5;129;01min\u001B[39;00m subschemas:\n\u001B[0;32m--> 355\u001B[0m     errs \u001B[38;5;241m=\u001B[39m \u001B[38;5;28;43mlist\u001B[39;49m\u001B[43m(\u001B[49m\u001B[43mvalidator\u001B[49m\u001B[38;5;241;43m.\u001B[39;49m\u001B[43mdescend\u001B[49m\u001B[43m(\u001B[49m\u001B[43minstance\u001B[49m\u001B[43m,\u001B[49m\u001B[43m \u001B[49m\u001B[43msubschema\u001B[49m\u001B[43m,\u001B[49m\u001B[43m \u001B[49m\u001B[43mschema_path\u001B[49m\u001B[38;5;241;43m=\u001B[39;49m\u001B[43mindex\u001B[49m\u001B[43m)\u001B[49m\u001B[43m)\u001B[49m\n\u001B[1;32m    356\u001B[0m     \u001B[38;5;28;01mif\u001B[39;00m \u001B[38;5;129;01mnot\u001B[39;00m errs:\n\u001B[1;32m    357\u001B[0m         first_valid \u001B[38;5;241m=\u001B[39m subschema\n",
      "File \u001B[0;32m~/git/vrs/venv/lib/python3.12/site-packages/jsonschema/validators.py:419\u001B[0m, in \u001B[0;36mcreate.<locals>.Validator.descend\u001B[0;34m(self, instance, schema, path, schema_path, resolver)\u001B[0m\n\u001B[1;32m    416\u001B[0m     \u001B[38;5;28;01mcontinue\u001B[39;00m\n\u001B[1;32m    418\u001B[0m errors \u001B[38;5;241m=\u001B[39m validator(evolved, v, instance, schema) \u001B[38;5;129;01mor\u001B[39;00m ()\n\u001B[0;32m--> 419\u001B[0m \u001B[43m\u001B[49m\u001B[38;5;28;43;01mfor\u001B[39;49;00m\u001B[43m \u001B[49m\u001B[43merror\u001B[49m\u001B[43m \u001B[49m\u001B[38;5;129;43;01min\u001B[39;49;00m\u001B[43m \u001B[49m\u001B[43merrors\u001B[49m\u001B[43m:\u001B[49m\n\u001B[1;32m    420\u001B[0m \u001B[43m    \u001B[49m\u001B[38;5;66;43;03m# set details if not already set by the called fn\u001B[39;49;00m\n\u001B[1;32m    421\u001B[0m \u001B[43m    \u001B[49m\u001B[43merror\u001B[49m\u001B[38;5;241;43m.\u001B[39;49m\u001B[43m_set\u001B[49m\u001B[43m(\u001B[49m\n\u001B[1;32m    422\u001B[0m \u001B[43m        \u001B[49m\u001B[43mvalidator\u001B[49m\u001B[38;5;241;43m=\u001B[39;49m\u001B[43mk\u001B[49m\u001B[43m,\u001B[49m\n\u001B[1;32m    423\u001B[0m \u001B[43m        \u001B[49m\u001B[43mvalidator_value\u001B[49m\u001B[38;5;241;43m=\u001B[39;49m\u001B[43mv\u001B[49m\u001B[43m,\u001B[49m\n\u001B[0;32m   (...)\u001B[0m\n\u001B[1;32m    426\u001B[0m \u001B[43m        \u001B[49m\u001B[43mtype_checker\u001B[49m\u001B[38;5;241;43m=\u001B[39;49m\u001B[43mevolved\u001B[49m\u001B[38;5;241;43m.\u001B[39;49m\u001B[43mTYPE_CHECKER\u001B[49m\u001B[43m,\u001B[49m\n\u001B[1;32m    427\u001B[0m \u001B[43m    \u001B[49m\u001B[43m)\u001B[49m\n\u001B[1;32m    428\u001B[0m \u001B[43m    \u001B[49m\u001B[38;5;28;43;01mif\u001B[39;49;00m\u001B[43m \u001B[49m\u001B[43mk\u001B[49m\u001B[43m \u001B[49m\u001B[38;5;129;43;01mnot\u001B[39;49;00m\u001B[43m \u001B[49m\u001B[38;5;129;43;01min\u001B[39;49;00m\u001B[43m \u001B[49m\u001B[43m{\u001B[49m\u001B[38;5;124;43m\"\u001B[39;49m\u001B[38;5;124;43mif\u001B[39;49m\u001B[38;5;124;43m\"\u001B[39;49m\u001B[43m,\u001B[49m\u001B[43m \u001B[49m\u001B[38;5;124;43m\"\u001B[39;49m\u001B[38;5;124;43m$ref\u001B[39;49m\u001B[38;5;124;43m\"\u001B[39;49m\u001B[43m}\u001B[49m\u001B[43m:\u001B[49m\n",
      "File \u001B[0;32m~/git/vrs/venv/lib/python3.12/site-packages/jsonschema/_keywords.py:275\u001B[0m, in \u001B[0;36mref\u001B[0;34m(validator, ref, instance, schema)\u001B[0m\n\u001B[1;32m    274\u001B[0m \u001B[38;5;28;01mdef\u001B[39;00m \u001B[38;5;21mref\u001B[39m(validator, ref, instance, schema):\n\u001B[0;32m--> 275\u001B[0m     \u001B[38;5;28;01myield from\u001B[39;00m \u001B[43mvalidator\u001B[49m\u001B[38;5;241;43m.\u001B[39;49m\u001B[43m_validate_reference\u001B[49m\u001B[43m(\u001B[49m\u001B[43mref\u001B[49m\u001B[38;5;241;43m=\u001B[39;49m\u001B[43mref\u001B[49m\u001B[43m,\u001B[49m\u001B[43m \u001B[49m\u001B[43minstance\u001B[49m\u001B[38;5;241;43m=\u001B[39;49m\u001B[43minstance\u001B[49m\u001B[43m)\u001B[49m\n",
      "File \u001B[0;32m~/git/vrs/venv/lib/python3.12/site-packages/jsonschema/validators.py:452\u001B[0m, in \u001B[0;36mcreate.<locals>.Validator._validate_reference\u001B[0;34m(self, ref, instance)\u001B[0m\n\u001B[1;32m    450\u001B[0m         resolved \u001B[38;5;241m=\u001B[39m \u001B[38;5;28mself\u001B[39m\u001B[38;5;241m.\u001B[39m_resolver\u001B[38;5;241m.\u001B[39mlookup(ref)\n\u001B[1;32m    451\u001B[0m     \u001B[38;5;28;01mexcept\u001B[39;00m referencing\u001B[38;5;241m.\u001B[39mexceptions\u001B[38;5;241m.\u001B[39mUnresolvable \u001B[38;5;28;01mas\u001B[39;00m err:\n\u001B[0;32m--> 452\u001B[0m         \u001B[38;5;28;01mraise\u001B[39;00m exceptions\u001B[38;5;241m.\u001B[39m_WrappedReferencingError(err) \u001B[38;5;28;01mfrom\u001B[39;00m \u001B[38;5;21;01merr\u001B[39;00m\n\u001B[1;32m    454\u001B[0m     \u001B[38;5;28;01mreturn\u001B[39;00m \u001B[38;5;28mself\u001B[39m\u001B[38;5;241m.\u001B[39mdescend(\n\u001B[1;32m    455\u001B[0m         instance,\n\u001B[1;32m    456\u001B[0m         resolved\u001B[38;5;241m.\u001B[39mcontents,\n\u001B[1;32m    457\u001B[0m         resolver\u001B[38;5;241m=\u001B[39mresolved\u001B[38;5;241m.\u001B[39mresolver,\n\u001B[1;32m    458\u001B[0m     )\n\u001B[1;32m    459\u001B[0m \u001B[38;5;28;01melse\u001B[39;00m:\n",
      "\u001B[0;31m_WrappedReferencingError\u001B[0m: Unresolvable: SequenceReference.json"
     ]
    }
   ],
   "source": [
    "sl_schema_filepath = vrs_jsons_path / 'SequenceLocation.json'\n",
    "sl = {\n",
    "    'sequenceReference': {\n",
    "        'refgetAccession': 'SQ.9W6SPR3RMCHWCSGJLQHE6KBOD285V5SW',\n",
    "        'type':'SequenceReference'\n",
    "    },\n",
    "    'start': 100,\n",
    "    'end': [None, 150],\n",
    "    'type': 'SequenceLocation'\n",
    "}\n",
    "\n",
    "with open(sl_schema_filepath, 'r') as sl_js_file:\n",
    "    sl_schema = json.load(sl_js_file)\n",
    "js.validate(sl, sl_schema)"
   ],
   "metadata": {
    "collapsed": false,
    "ExecuteTime": {
     "end_time": "2024-03-04T03:00:36.772789Z",
     "start_time": "2024-03-04T03:00:36.675840Z"
    }
   },
   "id": "c387ec50b21b5490",
   "execution_count": 17
  },
  {
   "cell_type": "markdown",
   "source": [
    "The `_WrappedReferencingError` informs us that, without an anchor provided by `$id`, there is no way to resolve the relative references. This makes sense, since the system has no idea where the loaded JSON came from!\n",
    "\n",
    "We can address this by using the `referencing` library and pre-loading all of our schemas:"
   ],
   "metadata": {
    "collapsed": false
   },
   "id": "f87b0dc4c369fb39"
  },
  {
   "cell_type": "code",
   "outputs": [],
   "source": [
    "from referencing import Registry, Resource\n",
    "from referencing.jsonschema import DRAFT202012\n",
    "from jsonschema import Draft202012Validator\n",
    "\n",
    "def retrieve_rel_ref(rel_ref: str):\n",
    "    resolved_path = (vrs_jsons_path / rel_ref).resolve()\n",
    "    schema = json.loads(resolved_path.read_text())\n",
    "    return Resource.from_contents(schema)\n",
    "\n",
    "vrs_js_registry = Registry(retrieve=retrieve_rel_ref)\n",
    "vrs_js = dict()\n",
    "vrs_validator = dict()\n",
    "\n",
    "for schema_path in vrs_jsons_path.glob('*.json'):\n",
    "    content = json.loads(schema_path.read_text())\n",
    "    schema_uri = schema_path.as_uri()\n",
    "    content['id'] = schema_uri\n",
    "    schema_resource = Resource(contents=content, specification=DRAFT202012)\n",
    "    vrs_js[schema_path.stem] = content\n",
    "    vrs_schemas = vrs_js_registry.with_resources([\n",
    "        (schema_path.name, schema_resource),\n",
    "        (schema_uri, schema_resource)\n",
    "    ])\n",
    "\n",
    "for cls in vrs_js:\n",
    "    vrs_validator[cls] = Draft202012Validator(vrs_js[cls], registry=vrs_js_registry)"
   ],
   "metadata": {
    "collapsed": false,
    "ExecuteTime": {
     "end_time": "2024-03-04T04:35:11.947769Z",
     "start_time": "2024-03-04T04:35:11.939437Z"
    }
   },
   "id": "863e702c5df870aa",
   "execution_count": 69
  },
  {
   "cell_type": "code",
   "outputs": [],
   "source": [
    "vrs_validator['SequenceLocation'].validate(sl)"
   ],
   "metadata": {
    "collapsed": false,
    "ExecuteTime": {
     "end_time": "2024-03-04T04:47:15.778090Z",
     "start_time": "2024-03-04T04:47:15.770335Z"
    }
   },
   "id": "d0cef14eb7be356b",
   "execution_count": 78
  },
  {
   "cell_type": "markdown",
   "source": [
    "Now we can validate! Calls to refs from the JSONs directory are retrievable from the registry, and relative refs outside of the VRS JSONs are handled by the `retrieve_rel_ref` method."
   ],
   "metadata": {
    "collapsed": false
   },
   "id": "3dcc31a2796ae533"
  },
  {
   "cell_type": "code",
   "outputs": [
    {
     "ename": "_RefResolutionError",
     "evalue": "unknown url type: 'SequenceLocation.json'",
     "output_type": "error",
     "traceback": [
      "\u001B[0;31m---------------------------------------------------------------------------\u001B[0m",
      "\u001B[0;31mKeyError\u001B[0m                                  Traceback (most recent call last)",
      "File \u001B[0;32m~/git/vrs/venv/lib/python3.12/site-packages/jsonschema/validators.py:1102\u001B[0m, in \u001B[0;36m_RefResolver.resolve_from_url\u001B[0;34m(self, url)\u001B[0m\n\u001B[1;32m   1101\u001B[0m \u001B[38;5;28;01mtry\u001B[39;00m:\n\u001B[0;32m-> 1102\u001B[0m     document \u001B[38;5;241m=\u001B[39m \u001B[38;5;28;43mself\u001B[39;49m\u001B[38;5;241;43m.\u001B[39;49m\u001B[43mstore\u001B[49m\u001B[43m[\u001B[49m\u001B[43murl\u001B[49m\u001B[43m]\u001B[49m\n\u001B[1;32m   1103\u001B[0m \u001B[38;5;28;01mexcept\u001B[39;00m \u001B[38;5;167;01mKeyError\u001B[39;00m:\n",
      "File \u001B[0;32m~/git/vrs/venv/lib/python3.12/site-packages/jsonschema/_utils.py:20\u001B[0m, in \u001B[0;36mURIDict.__getitem__\u001B[0;34m(self, uri)\u001B[0m\n\u001B[1;32m     19\u001B[0m \u001B[38;5;28;01mdef\u001B[39;00m \u001B[38;5;21m__getitem__\u001B[39m(\u001B[38;5;28mself\u001B[39m, uri):\n\u001B[0;32m---> 20\u001B[0m     \u001B[38;5;28;01mreturn\u001B[39;00m \u001B[38;5;28;43mself\u001B[39;49m\u001B[38;5;241;43m.\u001B[39;49m\u001B[43mstore\u001B[49m\u001B[43m[\u001B[49m\u001B[38;5;28;43mself\u001B[39;49m\u001B[38;5;241;43m.\u001B[39;49m\u001B[43mnormalize\u001B[49m\u001B[43m(\u001B[49m\u001B[43muri\u001B[49m\u001B[43m)\u001B[49m\u001B[43m]\u001B[49m\n",
      "\u001B[0;31mKeyError\u001B[0m: 'SequenceLocation.json'",
      "\nDuring handling of the above exception, another exception occurred:\n",
      "\u001B[0;31mValueError\u001B[0m                                Traceback (most recent call last)",
      "File \u001B[0;32m~/git/vrs/venv/lib/python3.12/site-packages/jsonschema/validators.py:1105\u001B[0m, in \u001B[0;36m_RefResolver.resolve_from_url\u001B[0;34m(self, url)\u001B[0m\n\u001B[1;32m   1104\u001B[0m \u001B[38;5;28;01mtry\u001B[39;00m:\n\u001B[0;32m-> 1105\u001B[0m     document \u001B[38;5;241m=\u001B[39m \u001B[38;5;28;43mself\u001B[39;49m\u001B[38;5;241;43m.\u001B[39;49m\u001B[43mresolve_remote\u001B[49m\u001B[43m(\u001B[49m\u001B[43murl\u001B[49m\u001B[43m)\u001B[49m\n\u001B[1;32m   1106\u001B[0m \u001B[38;5;28;01mexcept\u001B[39;00m \u001B[38;5;167;01mException\u001B[39;00m \u001B[38;5;28;01mas\u001B[39;00m exc:  \u001B[38;5;66;03m# noqa: BLE001\u001B[39;00m\n",
      "File \u001B[0;32m~/git/vrs/venv/lib/python3.12/site-packages/jsonschema/validators.py:1209\u001B[0m, in \u001B[0;36m_RefResolver.resolve_remote\u001B[0;34m(self, uri)\u001B[0m\n\u001B[1;32m   1207\u001B[0m \u001B[38;5;28;01melse\u001B[39;00m:\n\u001B[1;32m   1208\u001B[0m     \u001B[38;5;66;03m# Otherwise, pass off to urllib and assume utf-8\u001B[39;00m\n\u001B[0;32m-> 1209\u001B[0m     \u001B[38;5;28;01mwith\u001B[39;00m \u001B[43murlopen\u001B[49m\u001B[43m(\u001B[49m\u001B[43muri\u001B[49m\u001B[43m)\u001B[49m \u001B[38;5;28;01mas\u001B[39;00m url:  \u001B[38;5;66;03m# noqa: S310\u001B[39;00m\n\u001B[1;32m   1210\u001B[0m         result \u001B[38;5;241m=\u001B[39m json\u001B[38;5;241m.\u001B[39mloads(url\u001B[38;5;241m.\u001B[39mread()\u001B[38;5;241m.\u001B[39mdecode(\u001B[38;5;124m\"\u001B[39m\u001B[38;5;124mutf-8\u001B[39m\u001B[38;5;124m\"\u001B[39m))\n",
      "File \u001B[0;32m~/.pyenv/versions/3.12.1/lib/python3.12/urllib/request.py:215\u001B[0m, in \u001B[0;36murlopen\u001B[0;34m(url, data, timeout, cafile, capath, cadefault, context)\u001B[0m\n\u001B[1;32m    214\u001B[0m     opener \u001B[38;5;241m=\u001B[39m _opener\n\u001B[0;32m--> 215\u001B[0m \u001B[38;5;28;01mreturn\u001B[39;00m \u001B[43mopener\u001B[49m\u001B[38;5;241;43m.\u001B[39;49m\u001B[43mopen\u001B[49m\u001B[43m(\u001B[49m\u001B[43murl\u001B[49m\u001B[43m,\u001B[49m\u001B[43m \u001B[49m\u001B[43mdata\u001B[49m\u001B[43m,\u001B[49m\u001B[43m \u001B[49m\u001B[43mtimeout\u001B[49m\u001B[43m)\u001B[49m\n",
      "File \u001B[0;32m~/.pyenv/versions/3.12.1/lib/python3.12/urllib/request.py:499\u001B[0m, in \u001B[0;36mOpenerDirector.open\u001B[0;34m(self, fullurl, data, timeout)\u001B[0m\n\u001B[1;32m    498\u001B[0m \u001B[38;5;28;01mif\u001B[39;00m \u001B[38;5;28misinstance\u001B[39m(fullurl, \u001B[38;5;28mstr\u001B[39m):\n\u001B[0;32m--> 499\u001B[0m     req \u001B[38;5;241m=\u001B[39m \u001B[43mRequest\u001B[49m\u001B[43m(\u001B[49m\u001B[43mfullurl\u001B[49m\u001B[43m,\u001B[49m\u001B[43m \u001B[49m\u001B[43mdata\u001B[49m\u001B[43m)\u001B[49m\n\u001B[1;32m    500\u001B[0m \u001B[38;5;28;01melse\u001B[39;00m:\n",
      "File \u001B[0;32m~/.pyenv/versions/3.12.1/lib/python3.12/urllib/request.py:318\u001B[0m, in \u001B[0;36mRequest.__init__\u001B[0;34m(self, url, data, headers, origin_req_host, unverifiable, method)\u001B[0m\n\u001B[1;32m    315\u001B[0m \u001B[38;5;28;01mdef\u001B[39;00m \u001B[38;5;21m__init__\u001B[39m(\u001B[38;5;28mself\u001B[39m, url, data\u001B[38;5;241m=\u001B[39m\u001B[38;5;28;01mNone\u001B[39;00m, headers\u001B[38;5;241m=\u001B[39m{},\n\u001B[1;32m    316\u001B[0m              origin_req_host\u001B[38;5;241m=\u001B[39m\u001B[38;5;28;01mNone\u001B[39;00m, unverifiable\u001B[38;5;241m=\u001B[39m\u001B[38;5;28;01mFalse\u001B[39;00m,\n\u001B[1;32m    317\u001B[0m              method\u001B[38;5;241m=\u001B[39m\u001B[38;5;28;01mNone\u001B[39;00m):\n\u001B[0;32m--> 318\u001B[0m     \u001B[38;5;28;43mself\u001B[39;49m\u001B[38;5;241;43m.\u001B[39;49m\u001B[43mfull_url\u001B[49m \u001B[38;5;241m=\u001B[39m url\n\u001B[1;32m    319\u001B[0m     \u001B[38;5;28mself\u001B[39m\u001B[38;5;241m.\u001B[39mheaders \u001B[38;5;241m=\u001B[39m {}\n",
      "File \u001B[0;32m~/.pyenv/versions/3.12.1/lib/python3.12/urllib/request.py:344\u001B[0m, in \u001B[0;36mRequest.full_url\u001B[0;34m(self, url)\u001B[0m\n\u001B[1;32m    343\u001B[0m \u001B[38;5;28mself\u001B[39m\u001B[38;5;241m.\u001B[39m_full_url, \u001B[38;5;28mself\u001B[39m\u001B[38;5;241m.\u001B[39mfragment \u001B[38;5;241m=\u001B[39m _splittag(\u001B[38;5;28mself\u001B[39m\u001B[38;5;241m.\u001B[39m_full_url)\n\u001B[0;32m--> 344\u001B[0m \u001B[38;5;28;43mself\u001B[39;49m\u001B[38;5;241;43m.\u001B[39;49m\u001B[43m_parse\u001B[49m\u001B[43m(\u001B[49m\u001B[43m)\u001B[49m\n",
      "File \u001B[0;32m~/.pyenv/versions/3.12.1/lib/python3.12/urllib/request.py:373\u001B[0m, in \u001B[0;36mRequest._parse\u001B[0;34m(self)\u001B[0m\n\u001B[1;32m    372\u001B[0m \u001B[38;5;28;01mif\u001B[39;00m \u001B[38;5;28mself\u001B[39m\u001B[38;5;241m.\u001B[39mtype \u001B[38;5;129;01mis\u001B[39;00m \u001B[38;5;28;01mNone\u001B[39;00m:\n\u001B[0;32m--> 373\u001B[0m     \u001B[38;5;28;01mraise\u001B[39;00m \u001B[38;5;167;01mValueError\u001B[39;00m(\u001B[38;5;124m\"\u001B[39m\u001B[38;5;124munknown url type: \u001B[39m\u001B[38;5;132;01m%r\u001B[39;00m\u001B[38;5;124m\"\u001B[39m \u001B[38;5;241m%\u001B[39m \u001B[38;5;28mself\u001B[39m\u001B[38;5;241m.\u001B[39mfull_url)\n\u001B[1;32m    374\u001B[0m \u001B[38;5;28mself\u001B[39m\u001B[38;5;241m.\u001B[39mhost, \u001B[38;5;28mself\u001B[39m\u001B[38;5;241m.\u001B[39mselector \u001B[38;5;241m=\u001B[39m _splithost(rest)\n",
      "\u001B[0;31mValueError\u001B[0m: unknown url type: 'SequenceLocation.json'",
      "\nThe above exception was the direct cause of the following exception:\n",
      "\u001B[0;31m_RefResolutionError\u001B[0m                       Traceback (most recent call last)",
      "Cell \u001B[0;32mIn[80], line 10\u001B[0m\n\u001B[1;32m      1\u001B[0m a \u001B[38;5;241m=\u001B[39m {\n\u001B[1;32m      2\u001B[0m     \u001B[38;5;124m'\u001B[39m\u001B[38;5;124mlocation\u001B[39m\u001B[38;5;124m'\u001B[39m: sl,\n\u001B[1;32m      3\u001B[0m     \u001B[38;5;124m'\u001B[39m\u001B[38;5;124mstate\u001B[39m\u001B[38;5;124m'\u001B[39m: {\n\u001B[0;32m   (...)\u001B[0m\n\u001B[1;32m      8\u001B[0m     \u001B[38;5;124m'\u001B[39m\u001B[38;5;124mtype\u001B[39m\u001B[38;5;124m'\u001B[39m: \u001B[38;5;124m'\u001B[39m\u001B[38;5;124mAllele\u001B[39m\u001B[38;5;124m'\u001B[39m\n\u001B[1;32m      9\u001B[0m }\n\u001B[0;32m---> 10\u001B[0m \u001B[43mvrs_validator\u001B[49m\u001B[43m[\u001B[49m\u001B[38;5;124;43m'\u001B[39;49m\u001B[38;5;124;43mAllele\u001B[39;49m\u001B[38;5;124;43m'\u001B[39;49m\u001B[43m]\u001B[49m\u001B[38;5;241;43m.\u001B[39;49m\u001B[43mvalidate\u001B[49m\u001B[43m(\u001B[49m\u001B[43ma\u001B[49m\u001B[43m)\u001B[49m\n",
      "File \u001B[0;32m~/git/vrs/venv/lib/python3.12/site-packages/jsonschema/validators.py:437\u001B[0m, in \u001B[0;36mcreate.<locals>.Validator.validate\u001B[0;34m(self, *args, **kwargs)\u001B[0m\n\u001B[1;32m    436\u001B[0m \u001B[38;5;28;01mdef\u001B[39;00m \u001B[38;5;21mvalidate\u001B[39m(\u001B[38;5;28mself\u001B[39m, \u001B[38;5;241m*\u001B[39margs, \u001B[38;5;241m*\u001B[39m\u001B[38;5;241m*\u001B[39mkwargs):\n\u001B[0;32m--> 437\u001B[0m \u001B[43m    \u001B[49m\u001B[38;5;28;43;01mfor\u001B[39;49;00m\u001B[43m \u001B[49m\u001B[43merror\u001B[49m\u001B[43m \u001B[49m\u001B[38;5;129;43;01min\u001B[39;49;00m\u001B[43m \u001B[49m\u001B[38;5;28;43mself\u001B[39;49m\u001B[38;5;241;43m.\u001B[39;49m\u001B[43miter_errors\u001B[49m\u001B[43m(\u001B[49m\u001B[38;5;241;43m*\u001B[39;49m\u001B[43margs\u001B[49m\u001B[43m,\u001B[49m\u001B[43m \u001B[49m\u001B[38;5;241;43m*\u001B[39;49m\u001B[38;5;241;43m*\u001B[39;49m\u001B[43mkwargs\u001B[49m\u001B[43m)\u001B[49m\u001B[43m:\u001B[49m\n\u001B[1;32m    438\u001B[0m \u001B[43m        \u001B[49m\u001B[38;5;28;43;01mraise\u001B[39;49;00m\u001B[43m \u001B[49m\u001B[43merror\u001B[49m\n",
      "File \u001B[0;32m~/git/vrs/venv/lib/python3.12/site-packages/jsonschema/validators.py:371\u001B[0m, in \u001B[0;36mcreate.<locals>.Validator.iter_errors\u001B[0;34m(self, instance, _schema)\u001B[0m\n\u001B[1;32m    368\u001B[0m     \u001B[38;5;28;01mcontinue\u001B[39;00m\n\u001B[1;32m    370\u001B[0m errors \u001B[38;5;241m=\u001B[39m validator(\u001B[38;5;28mself\u001B[39m, v, instance, _schema) \u001B[38;5;129;01mor\u001B[39;00m ()\n\u001B[0;32m--> 371\u001B[0m \u001B[43m\u001B[49m\u001B[38;5;28;43;01mfor\u001B[39;49;00m\u001B[43m \u001B[49m\u001B[43merror\u001B[49m\u001B[43m \u001B[49m\u001B[38;5;129;43;01min\u001B[39;49;00m\u001B[43m \u001B[49m\u001B[43merrors\u001B[49m\u001B[43m:\u001B[49m\n\u001B[1;32m    372\u001B[0m \u001B[43m    \u001B[49m\u001B[38;5;66;43;03m# set details if not already set by the called fn\u001B[39;49;00m\n\u001B[1;32m    373\u001B[0m \u001B[43m    \u001B[49m\u001B[43merror\u001B[49m\u001B[38;5;241;43m.\u001B[39;49m\u001B[43m_set\u001B[49m\u001B[43m(\u001B[49m\n\u001B[1;32m    374\u001B[0m \u001B[43m        \u001B[49m\u001B[43mvalidator\u001B[49m\u001B[38;5;241;43m=\u001B[39;49m\u001B[43mk\u001B[49m\u001B[43m,\u001B[49m\n\u001B[1;32m    375\u001B[0m \u001B[43m        \u001B[49m\u001B[43mvalidator_value\u001B[49m\u001B[38;5;241;43m=\u001B[39;49m\u001B[43mv\u001B[49m\u001B[43m,\u001B[49m\n\u001B[0;32m   (...)\u001B[0m\n\u001B[1;32m    378\u001B[0m \u001B[43m        \u001B[49m\u001B[43mtype_checker\u001B[49m\u001B[38;5;241;43m=\u001B[39;49m\u001B[38;5;28;43mself\u001B[39;49m\u001B[38;5;241;43m.\u001B[39;49m\u001B[43mTYPE_CHECKER\u001B[49m\u001B[43m,\u001B[49m\n\u001B[1;32m    379\u001B[0m \u001B[43m    \u001B[49m\u001B[43m)\u001B[49m\n\u001B[1;32m    380\u001B[0m \u001B[43m    \u001B[49m\u001B[38;5;28;43;01mif\u001B[39;49;00m\u001B[43m \u001B[49m\u001B[43mk\u001B[49m\u001B[43m \u001B[49m\u001B[38;5;129;43;01mnot\u001B[39;49;00m\u001B[43m \u001B[49m\u001B[38;5;129;43;01min\u001B[39;49;00m\u001B[43m \u001B[49m\u001B[43m{\u001B[49m\u001B[38;5;124;43m\"\u001B[39;49m\u001B[38;5;124;43mif\u001B[39;49m\u001B[38;5;124;43m\"\u001B[39;49m\u001B[43m,\u001B[49m\u001B[43m \u001B[49m\u001B[38;5;124;43m\"\u001B[39;49m\u001B[38;5;124;43m$ref\u001B[39;49m\u001B[38;5;124;43m\"\u001B[39;49m\u001B[43m}\u001B[49m\u001B[43m:\u001B[49m\n",
      "File \u001B[0;32m~/git/vrs/venv/lib/python3.12/site-packages/jsonschema/_keywords.py:296\u001B[0m, in \u001B[0;36mproperties\u001B[0;34m(validator, properties, instance, schema)\u001B[0m\n\u001B[1;32m    294\u001B[0m \u001B[38;5;28;01mfor\u001B[39;00m \u001B[38;5;28mproperty\u001B[39m, subschema \u001B[38;5;129;01min\u001B[39;00m properties\u001B[38;5;241m.\u001B[39mitems():\n\u001B[1;32m    295\u001B[0m     \u001B[38;5;28;01mif\u001B[39;00m \u001B[38;5;28mproperty\u001B[39m \u001B[38;5;129;01min\u001B[39;00m instance:\n\u001B[0;32m--> 296\u001B[0m         \u001B[38;5;28;01myield from\u001B[39;00m validator\u001B[38;5;241m.\u001B[39mdescend(\n\u001B[1;32m    297\u001B[0m             instance[\u001B[38;5;28mproperty\u001B[39m],\n\u001B[1;32m    298\u001B[0m             subschema,\n\u001B[1;32m    299\u001B[0m             path\u001B[38;5;241m=\u001B[39m\u001B[38;5;28mproperty\u001B[39m,\n\u001B[1;32m    300\u001B[0m             schema_path\u001B[38;5;241m=\u001B[39m\u001B[38;5;28mproperty\u001B[39m,\n\u001B[1;32m    301\u001B[0m         )\n",
      "File \u001B[0;32m~/git/vrs/venv/lib/python3.12/site-packages/jsonschema/validators.py:419\u001B[0m, in \u001B[0;36mcreate.<locals>.Validator.descend\u001B[0;34m(self, instance, schema, path, schema_path, resolver)\u001B[0m\n\u001B[1;32m    416\u001B[0m     \u001B[38;5;28;01mcontinue\u001B[39;00m\n\u001B[1;32m    418\u001B[0m errors \u001B[38;5;241m=\u001B[39m validator(evolved, v, instance, schema) \u001B[38;5;129;01mor\u001B[39;00m ()\n\u001B[0;32m--> 419\u001B[0m \u001B[43m\u001B[49m\u001B[38;5;28;43;01mfor\u001B[39;49;00m\u001B[43m \u001B[49m\u001B[43merror\u001B[49m\u001B[43m \u001B[49m\u001B[38;5;129;43;01min\u001B[39;49;00m\u001B[43m \u001B[49m\u001B[43merrors\u001B[49m\u001B[43m:\u001B[49m\n\u001B[1;32m    420\u001B[0m \u001B[43m    \u001B[49m\u001B[38;5;66;43;03m# set details if not already set by the called fn\u001B[39;49;00m\n\u001B[1;32m    421\u001B[0m \u001B[43m    \u001B[49m\u001B[43merror\u001B[49m\u001B[38;5;241;43m.\u001B[39;49m\u001B[43m_set\u001B[49m\u001B[43m(\u001B[49m\n\u001B[1;32m    422\u001B[0m \u001B[43m        \u001B[49m\u001B[43mvalidator\u001B[49m\u001B[38;5;241;43m=\u001B[39;49m\u001B[43mk\u001B[49m\u001B[43m,\u001B[49m\n\u001B[1;32m    423\u001B[0m \u001B[43m        \u001B[49m\u001B[43mvalidator_value\u001B[49m\u001B[38;5;241;43m=\u001B[39;49m\u001B[43mv\u001B[49m\u001B[43m,\u001B[49m\n\u001B[0;32m   (...)\u001B[0m\n\u001B[1;32m    426\u001B[0m \u001B[43m        \u001B[49m\u001B[43mtype_checker\u001B[49m\u001B[38;5;241;43m=\u001B[39;49m\u001B[43mevolved\u001B[49m\u001B[38;5;241;43m.\u001B[39;49m\u001B[43mTYPE_CHECKER\u001B[49m\u001B[43m,\u001B[49m\n\u001B[1;32m    427\u001B[0m \u001B[43m    \u001B[49m\u001B[43m)\u001B[49m\n\u001B[1;32m    428\u001B[0m \u001B[43m    \u001B[49m\u001B[38;5;28;43;01mif\u001B[39;49;00m\u001B[43m \u001B[49m\u001B[43mk\u001B[49m\u001B[43m \u001B[49m\u001B[38;5;129;43;01mnot\u001B[39;49;00m\u001B[43m \u001B[49m\u001B[38;5;129;43;01min\u001B[39;49;00m\u001B[43m \u001B[49m\u001B[43m{\u001B[49m\u001B[38;5;124;43m\"\u001B[39;49m\u001B[38;5;124;43mif\u001B[39;49m\u001B[38;5;124;43m\"\u001B[39;49m\u001B[43m,\u001B[49m\u001B[43m \u001B[49m\u001B[38;5;124;43m\"\u001B[39;49m\u001B[38;5;124;43m$ref\u001B[39;49m\u001B[38;5;124;43m\"\u001B[39;49m\u001B[43m}\u001B[49m\u001B[43m:\u001B[49m\n",
      "File \u001B[0;32m~/git/vrs/venv/lib/python3.12/site-packages/jsonschema/_keywords.py:355\u001B[0m, in \u001B[0;36moneOf\u001B[0;34m(validator, oneOf, instance, schema)\u001B[0m\n\u001B[1;32m    353\u001B[0m all_errors \u001B[38;5;241m=\u001B[39m []\n\u001B[1;32m    354\u001B[0m \u001B[38;5;28;01mfor\u001B[39;00m index, subschema \u001B[38;5;129;01min\u001B[39;00m subschemas:\n\u001B[0;32m--> 355\u001B[0m     errs \u001B[38;5;241m=\u001B[39m \u001B[38;5;28;43mlist\u001B[39;49m\u001B[43m(\u001B[49m\u001B[43mvalidator\u001B[49m\u001B[38;5;241;43m.\u001B[39;49m\u001B[43mdescend\u001B[49m\u001B[43m(\u001B[49m\u001B[43minstance\u001B[49m\u001B[43m,\u001B[49m\u001B[43m \u001B[49m\u001B[43msubschema\u001B[49m\u001B[43m,\u001B[49m\u001B[43m \u001B[49m\u001B[43mschema_path\u001B[49m\u001B[38;5;241;43m=\u001B[39;49m\u001B[43mindex\u001B[49m\u001B[43m)\u001B[49m\u001B[43m)\u001B[49m\n\u001B[1;32m    356\u001B[0m     \u001B[38;5;28;01mif\u001B[39;00m \u001B[38;5;129;01mnot\u001B[39;00m errs:\n\u001B[1;32m    357\u001B[0m         first_valid \u001B[38;5;241m=\u001B[39m subschema\n",
      "File \u001B[0;32m~/git/vrs/venv/lib/python3.12/site-packages/jsonschema/validators.py:419\u001B[0m, in \u001B[0;36mcreate.<locals>.Validator.descend\u001B[0;34m(self, instance, schema, path, schema_path, resolver)\u001B[0m\n\u001B[1;32m    416\u001B[0m     \u001B[38;5;28;01mcontinue\u001B[39;00m\n\u001B[1;32m    418\u001B[0m errors \u001B[38;5;241m=\u001B[39m validator(evolved, v, instance, schema) \u001B[38;5;129;01mor\u001B[39;00m ()\n\u001B[0;32m--> 419\u001B[0m \u001B[43m\u001B[49m\u001B[38;5;28;43;01mfor\u001B[39;49;00m\u001B[43m \u001B[49m\u001B[43merror\u001B[49m\u001B[43m \u001B[49m\u001B[38;5;129;43;01min\u001B[39;49;00m\u001B[43m \u001B[49m\u001B[43merrors\u001B[49m\u001B[43m:\u001B[49m\n\u001B[1;32m    420\u001B[0m \u001B[43m    \u001B[49m\u001B[38;5;66;43;03m# set details if not already set by the called fn\u001B[39;49;00m\n\u001B[1;32m    421\u001B[0m \u001B[43m    \u001B[49m\u001B[43merror\u001B[49m\u001B[38;5;241;43m.\u001B[39;49m\u001B[43m_set\u001B[49m\u001B[43m(\u001B[49m\n\u001B[1;32m    422\u001B[0m \u001B[43m        \u001B[49m\u001B[43mvalidator\u001B[49m\u001B[38;5;241;43m=\u001B[39;49m\u001B[43mk\u001B[49m\u001B[43m,\u001B[49m\n\u001B[1;32m    423\u001B[0m \u001B[43m        \u001B[49m\u001B[43mvalidator_value\u001B[49m\u001B[38;5;241;43m=\u001B[39;49m\u001B[43mv\u001B[49m\u001B[43m,\u001B[49m\n\u001B[0;32m   (...)\u001B[0m\n\u001B[1;32m    426\u001B[0m \u001B[43m        \u001B[49m\u001B[43mtype_checker\u001B[49m\u001B[38;5;241;43m=\u001B[39;49m\u001B[43mevolved\u001B[49m\u001B[38;5;241;43m.\u001B[39;49m\u001B[43mTYPE_CHECKER\u001B[49m\u001B[43m,\u001B[49m\n\u001B[1;32m    427\u001B[0m \u001B[43m    \u001B[49m\u001B[43m)\u001B[49m\n\u001B[1;32m    428\u001B[0m \u001B[43m    \u001B[49m\u001B[38;5;28;43;01mif\u001B[39;49;00m\u001B[43m \u001B[49m\u001B[43mk\u001B[49m\u001B[43m \u001B[49m\u001B[38;5;129;43;01mnot\u001B[39;49;00m\u001B[43m \u001B[49m\u001B[38;5;129;43;01min\u001B[39;49;00m\u001B[43m \u001B[49m\u001B[43m{\u001B[49m\u001B[38;5;124;43m\"\u001B[39;49m\u001B[38;5;124;43mif\u001B[39;49m\u001B[38;5;124;43m\"\u001B[39;49m\u001B[43m,\u001B[49m\u001B[43m \u001B[49m\u001B[38;5;124;43m\"\u001B[39;49m\u001B[38;5;124;43m$ref\u001B[39;49m\u001B[38;5;124;43m\"\u001B[39;49m\u001B[43m}\u001B[49m\u001B[43m:\u001B[49m\n",
      "File \u001B[0;32m~/git/vrs/venv/lib/python3.12/site-packages/jsonschema/_keywords.py:275\u001B[0m, in \u001B[0;36mref\u001B[0;34m(validator, ref, instance, schema)\u001B[0m\n\u001B[1;32m    274\u001B[0m \u001B[38;5;28;01mdef\u001B[39;00m \u001B[38;5;21mref\u001B[39m(validator, ref, instance, schema):\n\u001B[0;32m--> 275\u001B[0m     \u001B[38;5;28;01myield from\u001B[39;00m \u001B[43mvalidator\u001B[49m\u001B[38;5;241;43m.\u001B[39;49m\u001B[43m_validate_reference\u001B[49m\u001B[43m(\u001B[49m\u001B[43mref\u001B[49m\u001B[38;5;241;43m=\u001B[39;49m\u001B[43mref\u001B[49m\u001B[43m,\u001B[49m\u001B[43m \u001B[49m\u001B[43minstance\u001B[49m\u001B[38;5;241;43m=\u001B[39;49m\u001B[43minstance\u001B[49m\u001B[43m)\u001B[49m\n",
      "File \u001B[0;32m~/git/vrs/venv/lib/python3.12/site-packages/jsonschema/validators.py:465\u001B[0m, in \u001B[0;36mcreate.<locals>.Validator._validate_reference\u001B[0;34m(self, ref, instance)\u001B[0m\n\u001B[1;32m    463\u001B[0m         \u001B[38;5;28;01mreturn\u001B[39;00m \u001B[38;5;28mself\u001B[39m\u001B[38;5;241m.\u001B[39mdescend(instance, resolved)\n\u001B[1;32m    464\u001B[0m \u001B[38;5;28;01melse\u001B[39;00m:\n\u001B[0;32m--> 465\u001B[0m     scope, resolved \u001B[38;5;241m=\u001B[39m \u001B[43mresolve\u001B[49m\u001B[43m(\u001B[49m\u001B[43mref\u001B[49m\u001B[43m)\u001B[49m\n\u001B[1;32m    466\u001B[0m     \u001B[38;5;28mself\u001B[39m\u001B[38;5;241m.\u001B[39m_ref_resolver\u001B[38;5;241m.\u001B[39mpush_scope(scope)\n\u001B[1;32m    468\u001B[0m     \u001B[38;5;28;01mtry\u001B[39;00m:\n",
      "File \u001B[0;32m~/git/vrs/venv/lib/python3.12/site-packages/jsonschema/validators.py:1091\u001B[0m, in \u001B[0;36m_RefResolver.resolve\u001B[0;34m(self, ref)\u001B[0m\n\u001B[1;32m   1088\u001B[0m \u001B[38;5;28;01mif\u001B[39;00m match \u001B[38;5;129;01mis\u001B[39;00m \u001B[38;5;129;01mnot\u001B[39;00m \u001B[38;5;28;01mNone\u001B[39;00m:\n\u001B[1;32m   1089\u001B[0m     \u001B[38;5;28;01mreturn\u001B[39;00m match\n\u001B[0;32m-> 1091\u001B[0m \u001B[38;5;28;01mreturn\u001B[39;00m url, \u001B[38;5;28;43mself\u001B[39;49m\u001B[38;5;241;43m.\u001B[39;49m\u001B[43m_remote_cache\u001B[49m\u001B[43m(\u001B[49m\u001B[43murl\u001B[49m\u001B[43m)\u001B[49m\n",
      "File \u001B[0;32m~/git/vrs/venv/lib/python3.12/site-packages/jsonschema/validators.py:1107\u001B[0m, in \u001B[0;36m_RefResolver.resolve_from_url\u001B[0;34m(self, url)\u001B[0m\n\u001B[1;32m   1105\u001B[0m         document \u001B[38;5;241m=\u001B[39m \u001B[38;5;28mself\u001B[39m\u001B[38;5;241m.\u001B[39mresolve_remote(url)\n\u001B[1;32m   1106\u001B[0m     \u001B[38;5;28;01mexcept\u001B[39;00m \u001B[38;5;167;01mException\u001B[39;00m \u001B[38;5;28;01mas\u001B[39;00m exc:  \u001B[38;5;66;03m# noqa: BLE001\u001B[39;00m\n\u001B[0;32m-> 1107\u001B[0m         \u001B[38;5;28;01mraise\u001B[39;00m exceptions\u001B[38;5;241m.\u001B[39m_RefResolutionError(exc) \u001B[38;5;28;01mfrom\u001B[39;00m \u001B[38;5;21;01mexc\u001B[39;00m\n\u001B[1;32m   1109\u001B[0m \u001B[38;5;28;01mreturn\u001B[39;00m \u001B[38;5;28mself\u001B[39m\u001B[38;5;241m.\u001B[39mresolve_fragment(document, fragment)\n",
      "\u001B[0;31m_RefResolutionError\u001B[0m: unknown url type: 'SequenceLocation.json'"
     ]
    }
   ],
   "source": [
    "a = {\n",
    "    'location': sl,\n",
    "    'state': {\n",
    "        'type': 'ReferenceLengthExpression',\n",
    "        'length': [32, 35],\n",
    "        'repeatSubunitLength': 3\n",
    "    },\n",
    "    'type': 'Allele'\n",
    "}\n",
    "vrs_validator['Allele'].validate(a)"
   ],
   "metadata": {
    "collapsed": false,
    "ExecuteTime": {
     "end_time": "2024-03-04T04:49:58.427484Z",
     "start_time": "2024-03-04T04:48:25.269147Z"
    }
   },
   "id": "2e2bc59ea6773f88",
   "execution_count": 80
  },
  {
   "cell_type": "code",
   "outputs": [
    {
     "data": {
      "text/plain": "{'$schema': 'https://json-schema.org/draft/2020-12/schema',\n 'title': 'Allele',\n 'type': 'object',\n 'maturity': 'draft',\n 'ga4ghDigest': {'prefix': 'VA', 'keys': ['location', 'state', 'type']},\n 'description': 'The state of a molecule at a Location.',\n 'properties': {'id': {'type': 'string',\n   'description': \"The 'logical' identifier of the entity in the system of record, e.g. a UUID. This 'id' is  unique within a given system. The identified entity may have a different 'id' in a different  system, or may refer to an 'id' for the shared concept in another system (e.g. a CURIE).\"},\n  'label': {'type': 'string',\n   'description': 'A primary label for the entity.'},\n  'description': {'type': 'string',\n   'description': 'A free-text description of the entity.'},\n  'extensions': {'type': 'array',\n   'ordered': True,\n   'items': {'$ref': '../import/gks-common/json/Extension.json'}},\n  'type': {'type': 'string',\n   'const': 'Allele',\n   'default': 'Allele',\n   'description': 'MUST be \"Allele\"'},\n  'digest': {'description': 'A sha512t24u digest created using the VRS Computed Identifier algorithm.',\n   'type': 'string',\n   'pattern': '^[0-9A-Za-z_\\\\-]{32}$'},\n  'expressions': {'type': 'array',\n   'ordered': False,\n   'items': {'$ref': 'Expression.json'}},\n  'location': {'oneOf': [{'$ref': 'SequenceLocation.json'},\n    {'$ref': '../import/gks-common/json/IRI.json'}],\n   'description': 'The location of the Allele'},\n  'state': {'description': 'An expression of the sequence state',\n   'oneOf': [{'$ref': 'LengthExpression.json'},\n    {'$ref': 'LiteralSequenceExpression.json'},\n    {'$ref': 'ReferenceLengthExpression.json'}]}},\n 'required': ['location', 'state'],\n 'additionalProperties': False,\n 'id': 'file:///Users/ahw001/git/vrs/schema/json/Allele.json'}"
     },
     "execution_count": 76,
     "metadata": {},
     "output_type": "execute_result"
    }
   ],
   "source": [
    "vrs_validator['Allele']"
   ],
   "metadata": {
    "collapsed": false,
    "ExecuteTime": {
     "end_time": "2024-03-04T04:45:45.602860Z",
     "start_time": "2024-03-04T04:45:45.597833Z"
    }
   },
   "id": "4e1f00a032a3ba99",
   "execution_count": 76
  },
  {
   "cell_type": "code",
   "outputs": [],
   "source": [],
   "metadata": {
    "collapsed": false
   },
   "id": "79e8946510e8bda3"
  }
 ],
 "metadata": {
  "kernelspec": {
   "display_name": "Python 3",
   "language": "python",
   "name": "python3"
  },
  "language_info": {
   "codemirror_mode": {
    "name": "ipython",
    "version": 2
   },
   "file_extension": ".py",
   "mimetype": "text/x-python",
   "name": "python",
   "nbconvert_exporter": "python",
   "pygments_lexer": "ipython2",
   "version": "2.7.6"
  }
 },
 "nbformat": 4,
 "nbformat_minor": 5
}
